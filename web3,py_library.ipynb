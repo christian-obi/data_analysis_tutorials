{
 "cells": [
  {
   "cell_type": "code",
   "execution_count": 1,
   "id": "318418db",
   "metadata": {},
   "outputs": [
    {
     "name": "stdout",
     "output_type": "stream",
     "text": [
      "Collecting web3\n",
      "  Downloading web3-7.13.0-py3-none-any.whl.metadata (5.6 kB)\n",
      "Collecting dotenv\n",
      "  Downloading dotenv-0.9.9-py2.py3-none-any.whl.metadata (279 bytes)\n",
      "Requirement already satisfied: pandas in /home/realist/data-analysis/myenv/lib/python3.12/site-packages (2.3.1)\n",
      "Collecting eth-abi>=5.0.1 (from web3)\n",
      "  Downloading eth_abi-5.2.0-py3-none-any.whl.metadata (3.8 kB)\n",
      "Collecting eth-account>=0.13.6 (from web3)\n",
      "  Downloading eth_account-0.13.7-py3-none-any.whl.metadata (3.7 kB)\n",
      "Collecting eth-hash>=0.5.1 (from eth-hash[pycryptodome]>=0.5.1->web3)\n",
      "  Downloading eth_hash-0.7.1-py3-none-any.whl.metadata (4.2 kB)\n",
      "Collecting eth-typing>=5.0.0 (from web3)\n",
      "  Downloading eth_typing-5.2.1-py3-none-any.whl.metadata (3.2 kB)\n",
      "Collecting eth-utils>=5.0.0 (from web3)\n",
      "  Downloading eth_utils-5.3.0-py3-none-any.whl.metadata (5.7 kB)\n",
      "Collecting hexbytes>=1.2.0 (from web3)\n",
      "  Downloading hexbytes-1.3.1-py3-none-any.whl.metadata (3.3 kB)\n",
      "Collecting aiohttp>=3.7.4.post0 (from web3)\n",
      "  Downloading aiohttp-3.12.15-cp312-cp312-manylinux_2_17_x86_64.manylinux2014_x86_64.whl.metadata (7.7 kB)\n",
      "Collecting pydantic>=2.4.0 (from web3)\n",
      "  Downloading pydantic-2.11.7-py3-none-any.whl.metadata (67 kB)\n",
      "\u001b[2K     \u001b[90m━━━━━━━━━━━━━━━━━━━━━━━━━━━━━━━━━━━━━━━\u001b[0m \u001b[32m68.0/68.0 kB\u001b[0m \u001b[31m217.8 kB/s\u001b[0m eta \u001b[36m0:00:00\u001b[0ma \u001b[36m0:00:01\u001b[0m\n",
      "\u001b[?25hRequirement already satisfied: requests>=2.23.0 in /home/realist/data-analysis/myenv/lib/python3.12/site-packages (from web3) (2.32.4)\n",
      "Requirement already satisfied: typing-extensions>=4.0.1 in /home/realist/data-analysis/myenv/lib/python3.12/site-packages (from web3) (4.14.1)\n",
      "Collecting types-requests>=2.0.0 (from web3)\n",
      "  Downloading types_requests-2.32.4.20250809-py3-none-any.whl.metadata (2.0 kB)\n",
      "Collecting websockets<16.0.0,>=10.0.0 (from web3)\n",
      "  Downloading websockets-15.0.1-cp312-cp312-manylinux_2_5_x86_64.manylinux1_x86_64.manylinux_2_17_x86_64.manylinux2014_x86_64.whl.metadata (6.8 kB)\n",
      "Collecting pyunormalize>=15.0.0 (from web3)\n",
      "  Downloading pyunormalize-16.0.0-py3-none-any.whl.metadata (4.0 kB)\n",
      "Requirement already satisfied: python-dotenv in /home/realist/data-analysis/myenv/lib/python3.12/site-packages (from dotenv) (1.1.1)\n",
      "Requirement already satisfied: numpy>=1.26.0 in /home/realist/data-analysis/myenv/lib/python3.12/site-packages (from pandas) (2.3.1)\n",
      "Requirement already satisfied: python-dateutil>=2.8.2 in /home/realist/data-analysis/myenv/lib/python3.12/site-packages (from pandas) (2.9.0.post0)\n",
      "Requirement already satisfied: pytz>=2020.1 in /home/realist/data-analysis/myenv/lib/python3.12/site-packages (from pandas) (2025.2)\n",
      "Requirement already satisfied: tzdata>=2022.7 in /home/realist/data-analysis/myenv/lib/python3.12/site-packages (from pandas) (2025.2)\n",
      "Collecting aiohappyeyeballs>=2.5.0 (from aiohttp>=3.7.4.post0->web3)\n",
      "  Downloading aiohappyeyeballs-2.6.1-py3-none-any.whl.metadata (5.9 kB)\n",
      "Collecting aiosignal>=1.4.0 (from aiohttp>=3.7.4.post0->web3)\n",
      "  Downloading aiosignal-1.4.0-py3-none-any.whl.metadata (3.7 kB)\n",
      "Requirement already satisfied: attrs>=17.3.0 in /home/realist/data-analysis/myenv/lib/python3.12/site-packages (from aiohttp>=3.7.4.post0->web3) (25.3.0)\n",
      "Collecting frozenlist>=1.1.1 (from aiohttp>=3.7.4.post0->web3)\n",
      "  Downloading frozenlist-1.7.0-cp312-cp312-manylinux_2_5_x86_64.manylinux1_x86_64.manylinux_2_17_x86_64.manylinux2014_x86_64.whl.metadata (18 kB)\n",
      "Collecting multidict<7.0,>=4.5 (from aiohttp>=3.7.4.post0->web3)\n",
      "  Downloading multidict-6.6.4-cp312-cp312-manylinux2014_x86_64.manylinux_2_17_x86_64.manylinux_2_28_x86_64.whl.metadata (5.3 kB)\n",
      "Collecting propcache>=0.2.0 (from aiohttp>=3.7.4.post0->web3)\n",
      "  Downloading propcache-0.3.2-cp312-cp312-manylinux_2_17_x86_64.manylinux2014_x86_64.whl.metadata (12 kB)\n",
      "Collecting yarl<2.0,>=1.17.0 (from aiohttp>=3.7.4.post0->web3)\n",
      "  Downloading yarl-1.20.1-cp312-cp312-manylinux_2_17_x86_64.manylinux2014_x86_64.whl.metadata (73 kB)\n",
      "\u001b[2K     \u001b[90m━━━━━━━━━━━━━━━━━━━━━━━━━━━━━━━━━━━━━━━\u001b[0m \u001b[32m73.9/73.9 kB\u001b[0m \u001b[31m418.4 kB/s\u001b[0m eta \u001b[36m0:00:00\u001b[0ma \u001b[36m0:00:01\u001b[0m\n",
      "\u001b[?25hCollecting parsimonious<0.11.0,>=0.10.0 (from eth-abi>=5.0.1->web3)\n",
      "  Downloading parsimonious-0.10.0-py3-none-any.whl.metadata (25 kB)\n",
      "Collecting bitarray>=2.4.0 (from eth-account>=0.13.6->web3)\n",
      "  Downloading bitarray-3.6.1-cp312-cp312-manylinux_2_17_x86_64.manylinux2014_x86_64.whl.metadata (35 kB)\n",
      "Collecting eth-keyfile<0.9.0,>=0.7.0 (from eth-account>=0.13.6->web3)\n",
      "  Downloading eth_keyfile-0.8.1-py3-none-any.whl.metadata (8.5 kB)\n",
      "Collecting eth-keys>=0.4.0 (from eth-account>=0.13.6->web3)\n",
      "  Downloading eth_keys-0.7.0-py3-none-any.whl.metadata (13 kB)\n",
      "Collecting eth-rlp>=2.1.0 (from eth-account>=0.13.6->web3)\n",
      "  Downloading eth_rlp-2.2.0-py3-none-any.whl.metadata (3.3 kB)\n",
      "Collecting rlp>=1.0.0 (from eth-account>=0.13.6->web3)\n",
      "  Downloading rlp-4.1.0-py3-none-any.whl.metadata (3.2 kB)\n",
      "Collecting ckzg>=2.0.0 (from eth-account>=0.13.6->web3)\n",
      "  Downloading ckzg-2.1.1-cp312-cp312-manylinux_2_17_x86_64.manylinux2014_x86_64.whl.metadata (887 bytes)\n",
      "Collecting pycryptodome<4,>=3.6.6 (from eth-hash[pycryptodome]>=0.5.1->web3)\n",
      "  Downloading pycryptodome-3.23.0-cp37-abi3-manylinux_2_17_x86_64.manylinux2014_x86_64.whl.metadata (3.4 kB)\n",
      "Collecting cytoolz>=0.10.1 (from eth-utils>=5.0.0->web3)\n",
      "  Downloading cytoolz-1.0.1-cp312-cp312-manylinux_2_17_x86_64.manylinux2014_x86_64.whl.metadata (4.6 kB)\n",
      "Collecting annotated-types>=0.6.0 (from pydantic>=2.4.0->web3)\n",
      "  Downloading annotated_types-0.7.0-py3-none-any.whl.metadata (15 kB)\n",
      "Collecting pydantic-core==2.33.2 (from pydantic>=2.4.0->web3)\n",
      "  Downloading pydantic_core-2.33.2-cp312-cp312-manylinux_2_17_x86_64.manylinux2014_x86_64.whl.metadata (6.8 kB)\n",
      "Collecting typing-inspection>=0.4.0 (from pydantic>=2.4.0->web3)\n",
      "  Downloading typing_inspection-0.4.1-py3-none-any.whl.metadata (2.6 kB)\n",
      "Requirement already satisfied: six>=1.5 in /home/realist/data-analysis/myenv/lib/python3.12/site-packages (from python-dateutil>=2.8.2->pandas) (1.17.0)\n",
      "Requirement already satisfied: charset_normalizer<4,>=2 in /home/realist/data-analysis/myenv/lib/python3.12/site-packages (from requests>=2.23.0->web3) (3.4.2)\n",
      "Requirement already satisfied: idna<4,>=2.5 in /home/realist/data-analysis/myenv/lib/python3.12/site-packages (from requests>=2.23.0->web3) (3.10)\n",
      "Requirement already satisfied: urllib3<3,>=1.21.1 in /home/realist/data-analysis/myenv/lib/python3.12/site-packages (from requests>=2.23.0->web3) (2.5.0)\n",
      "Requirement already satisfied: certifi>=2017.4.17 in /home/realist/data-analysis/myenv/lib/python3.12/site-packages (from requests>=2.23.0->web3) (2025.7.14)\n",
      "Collecting toolz>=0.8.0 (from cytoolz>=0.10.1->eth-utils>=5.0.0->web3)\n",
      "  Downloading toolz-1.0.0-py3-none-any.whl.metadata (5.1 kB)\n",
      "Collecting regex>=2022.3.15 (from parsimonious<0.11.0,>=0.10.0->eth-abi>=5.0.1->web3)\n",
      "  Downloading regex-2025.7.34-cp312-cp312-manylinux2014_x86_64.manylinux_2_17_x86_64.manylinux_2_28_x86_64.whl.metadata (40 kB)\n",
      "\u001b[2K     \u001b[90m━━━━━━━━━━━━━━━━━━━━━━━━━━━━━━━━━━━━━━━\u001b[0m \u001b[32m40.5/40.5 kB\u001b[0m \u001b[31m108.2 kB/s\u001b[0m eta \u001b[36m0:00:00\u001b[0ma \u001b[36m0:00:01\u001b[0m\n",
      "\u001b[?25hDownloading web3-7.13.0-py3-none-any.whl (1.4 MB)\n",
      "\u001b[2K   \u001b[90m━━━━━━━━━━━━━━━━━━━━━━━━━━━━━━━━━━━━━━━━\u001b[0m \u001b[32m1.4/1.4 MB\u001b[0m \u001b[31m182.1 kB/s\u001b[0m eta \u001b[36m0:00:00\u001b[0m00:01\u001b[0m00:01\u001b[0m\n",
      "\u001b[?25hDownloading dotenv-0.9.9-py2.py3-none-any.whl (1.9 kB)\n",
      "Downloading aiohttp-3.12.15-cp312-cp312-manylinux_2_17_x86_64.manylinux2014_x86_64.whl (1.7 MB)\n",
      "\u001b[2K   \u001b[90m━━━━━━━━━━━━━━━━━━━━━━━━━━━━━━━━━━━━━━━━\u001b[0m \u001b[32m1.7/1.7 MB\u001b[0m \u001b[31m112.8 kB/s\u001b[0m eta \u001b[36m0:00:00\u001b[0m00:01\u001b[0m00:01\u001b[0m\n",
      "\u001b[?25hDownloading eth_abi-5.2.0-py3-none-any.whl (28 kB)\n",
      "Downloading eth_account-0.13.7-py3-none-any.whl (587 kB)\n",
      "\u001b[2K   \u001b[90m━━━━━━━━━━━━━━━━━━━━━━━━━━━━━━━━━━━━━━━\u001b[0m \u001b[32m587.5/587.5 kB\u001b[0m \u001b[31m181.4 kB/s\u001b[0m eta \u001b[36m0:00:00\u001b[0m00:01\u001b[0m00:01\u001b[0m\n",
      "\u001b[?25hDownloading eth_hash-0.7.1-py3-none-any.whl (8.0 kB)\n",
      "Downloading eth_typing-5.2.1-py3-none-any.whl (19 kB)\n",
      "Downloading eth_utils-5.3.0-py3-none-any.whl (102 kB)\n",
      "\u001b[2K   \u001b[90m━━━━━━━━━━━━━━━━━━━━━━━━━━━━━━━━━━━━━━━\u001b[0m \u001b[32m102.5/102.5 kB\u001b[0m \u001b[31m206.0 kB/s\u001b[0m eta \u001b[36m0:00:00\u001b[0m00:01\u001b[0m00:01\u001b[0m\n",
      "\u001b[?25hDownloading hexbytes-1.3.1-py3-none-any.whl (5.1 kB)\n",
      "Downloading pydantic-2.11.7-py3-none-any.whl (444 kB)\n",
      "\u001b[2K   \u001b[90m━━━━━━━━━━━━━━━━━━━━━━━━━━━━━━━━━━━━━━━\u001b[0m \u001b[32m444.8/444.8 kB\u001b[0m \u001b[31m181.3 kB/s\u001b[0m eta \u001b[36m0:00:00\u001b[0m00:01\u001b[0m00:01\u001b[0m\n",
      "\u001b[?25hDownloading pydantic_core-2.33.2-cp312-cp312-manylinux_2_17_x86_64.manylinux2014_x86_64.whl (2.0 MB)\n",
      "\u001b[2K   \u001b[90m━━━━━━━━━━━━━━━━━━━━━━━━━━━━━━━━━━━━━━━━\u001b[0m \u001b[32m2.0/2.0 MB\u001b[0m \u001b[31m118.0 kB/s\u001b[0m eta \u001b[36m0:00:00\u001b[0m00:01\u001b[0m00:01\u001b[0m\n",
      "\u001b[?25hDownloading pyunormalize-16.0.0-py3-none-any.whl (49 kB)\n",
      "\u001b[2K   \u001b[90m━━━━━━━━━━━━━━━━━━━━━━━━━━━━━━━━━━━━━━━━\u001b[0m \u001b[32m49.2/49.2 kB\u001b[0m \u001b[31m123.7 kB/s\u001b[0m eta \u001b[36m0:00:00\u001b[0ma \u001b[36m0:00:01\u001b[0m\n",
      "\u001b[?25hDownloading types_requests-2.32.4.20250809-py3-none-any.whl (20 kB)\n",
      "Downloading websockets-15.0.1-cp312-cp312-manylinux_2_5_x86_64.manylinux1_x86_64.manylinux_2_17_x86_64.manylinux2014_x86_64.whl (182 kB)\n",
      "\u001b[2K   \u001b[90m━━━━━━━━━━━━━━━━━━━━━━━━━━━━━━━━━━━━━━━\u001b[0m \u001b[32m182.5/182.5 kB\u001b[0m \u001b[31m137.2 kB/s\u001b[0m eta \u001b[36m0:00:00\u001b[0ma \u001b[36m0:00:01\u001b[0m\n",
      "\u001b[?25hDownloading aiohappyeyeballs-2.6.1-py3-none-any.whl (15 kB)\n",
      "Downloading aiosignal-1.4.0-py3-none-any.whl (7.5 kB)\n",
      "Downloading annotated_types-0.7.0-py3-none-any.whl (13 kB)\n",
      "Downloading bitarray-3.6.1-cp312-cp312-manylinux_2_17_x86_64.manylinux2014_x86_64.whl (331 kB)\n",
      "\u001b[2K   \u001b[90m━━━━━━━━━━━━━━━━━━━━━━━━━━━━━━━━━━━━━━━\u001b[0m \u001b[32m331.4/331.4 kB\u001b[0m \u001b[31m167.3 kB/s\u001b[0m eta \u001b[36m0:00:00\u001b[0ma \u001b[36m0:00:01\u001b[0m\n",
      "\u001b[?25hDownloading ckzg-2.1.1-cp312-cp312-manylinux_2_17_x86_64.manylinux2014_x86_64.whl (170 kB)\n",
      "\u001b[2K   \u001b[90m━━━━━━━━━━━━━━━━━━━━━━━━━━━━━━━━━━━━━━━\u001b[0m \u001b[32m170.8/170.8 kB\u001b[0m \u001b[31m177.0 kB/s\u001b[0m eta \u001b[36m0:00:00\u001b[0ma \u001b[36m0:00:01\u001b[0m\n",
      "\u001b[?25hDownloading cytoolz-1.0.1-cp312-cp312-manylinux_2_17_x86_64.manylinux2014_x86_64.whl (2.1 MB)\n",
      "\u001b[2K   \u001b[90m━━━━━━━━━━━━━━━━━━━━━━━━━━━━━━━━━━━━━━━━\u001b[0m \u001b[32m2.1/2.1 MB\u001b[0m \u001b[31m117.9 kB/s\u001b[0m eta \u001b[36m0:00:00\u001b[0m00:01\u001b[0m00:01\u001b[0m\n",
      "\u001b[?25hDownloading eth_keyfile-0.8.1-py3-none-any.whl (7.5 kB)\n",
      "Downloading eth_keys-0.7.0-py3-none-any.whl (20 kB)\n",
      "Downloading eth_rlp-2.2.0-py3-none-any.whl (4.4 kB)\n",
      "Downloading frozenlist-1.7.0-cp312-cp312-manylinux_2_5_x86_64.manylinux1_x86_64.manylinux_2_17_x86_64.manylinux2014_x86_64.whl (241 kB)\n",
      "\u001b[2K   \u001b[90m━━━━━━━━━━━━━━━━━━━━━━━━━━━━━━━━━━━━━━━\u001b[0m \u001b[32m241.8/241.8 kB\u001b[0m \u001b[31m163.2 kB/s\u001b[0m eta \u001b[36m0:00:00\u001b[0ma \u001b[36m0:00:01\u001b[0m\n",
      "\u001b[?25hDownloading multidict-6.6.4-cp312-cp312-manylinux2014_x86_64.manylinux_2_17_x86_64.manylinux_2_28_x86_64.whl (256 kB)\n",
      "\u001b[2K   \u001b[90m━━━━━━━━━━━━━━━━━━━━━━━━━━━━━━━━━━━━━━━\u001b[0m \u001b[32m256.1/256.1 kB\u001b[0m \u001b[31m114.8 kB/s\u001b[0m eta \u001b[36m0:00:00\u001b[0m00:01\u001b[0m00:01\u001b[0m\n",
      "\u001b[?25hDownloading parsimonious-0.10.0-py3-none-any.whl (48 kB)\n",
      "\u001b[2K   \u001b[90m━━━━━━━━━━━━━━━━━━━━━━━━━━━━━━━━━━━━━━━━\u001b[0m \u001b[32m48.4/48.4 kB\u001b[0m \u001b[31m92.4 kB/s\u001b[0m eta \u001b[36m0:00:00\u001b[0ma \u001b[36m0:00:01\u001b[0mm\n",
      "\u001b[?25hDownloading propcache-0.3.2-cp312-cp312-manylinux_2_17_x86_64.manylinux2014_x86_64.whl (224 kB)\n",
      "\u001b[2K   \u001b[90m━━━━━━━━━━━━━━━━━━━━━━━━━━━━━━━━━━━━━━━\u001b[0m \u001b[32m224.4/224.4 kB\u001b[0m \u001b[31m119.8 kB/s\u001b[0m eta \u001b[36m0:00:00\u001b[0ma \u001b[36m0:00:01\u001b[0m\n",
      "\u001b[?25hDownloading pycryptodome-3.23.0-cp37-abi3-manylinux_2_17_x86_64.manylinux2014_x86_64.whl (2.3 MB)\n",
      "\u001b[2K   \u001b[90m━━━━━━━━━━━━━━━━━━━━━━━━━━━━━━━━━━━━━━━━\u001b[0m \u001b[32m2.3/2.3 MB\u001b[0m \u001b[31m131.7 kB/s\u001b[0m eta \u001b[36m0:00:00\u001b[0m00:01\u001b[0m00:01\u001b[0m\n",
      "\u001b[?25hDownloading rlp-4.1.0-py3-none-any.whl (19 kB)\n",
      "Downloading typing_inspection-0.4.1-py3-none-any.whl (14 kB)\n",
      "Downloading yarl-1.20.1-cp312-cp312-manylinux_2_17_x86_64.manylinux2014_x86_64.whl (355 kB)\n",
      "\u001b[2K   \u001b[90m━━━━━━━━━━━━━━━━━━━━━━━━━━━━━━━━━━━━━━━\u001b[0m \u001b[32m355.6/355.6 kB\u001b[0m \u001b[31m160.2 kB/s\u001b[0m eta \u001b[36m0:00:00\u001b[0m00:01\u001b[0m00:01\u001b[0m\n",
      "\u001b[?25hDownloading regex-2025.7.34-cp312-cp312-manylinux2014_x86_64.manylinux_2_17_x86_64.manylinux_2_28_x86_64.whl (801 kB)\n",
      "\u001b[2K   \u001b[90m━━━━━━━━━━━━━━━━━━━━━━━━━━━━━━━━━━━━━━━\u001b[0m \u001b[32m801.9/801.9 kB\u001b[0m \u001b[31m156.2 kB/s\u001b[0m eta \u001b[36m0:00:00\u001b[0m00:01\u001b[0m00:01\u001b[0m\n",
      "\u001b[?25hDownloading toolz-1.0.0-py3-none-any.whl (56 kB)\n",
      "\u001b[2K   \u001b[90m━━━━━━━━━━━━━━━━━━━━━━━━━━━━━━━━━━━━━━━━\u001b[0m \u001b[32m56.4/56.4 kB\u001b[0m \u001b[31m174.9 kB/s\u001b[0m eta \u001b[36m0:00:00\u001b[0ma \u001b[36m0:00:01\u001b[0m\n",
      "\u001b[?25hInstalling collected packages: ckzg, bitarray, websockets, typing-inspection, types-requests, toolz, regex, pyunormalize, pydantic-core, pycryptodome, propcache, multidict, hexbytes, frozenlist, eth-typing, eth-hash, dotenv, annotated-types, aiohappyeyeballs, yarl, pydantic, parsimonious, cytoolz, aiosignal, eth-utils, aiohttp, rlp, eth-keys, eth-abi, eth-rlp, eth-keyfile, eth-account, web3\n",
      "Successfully installed aiohappyeyeballs-2.6.1 aiohttp-3.12.15 aiosignal-1.4.0 annotated-types-0.7.0 bitarray-3.6.1 ckzg-2.1.1 cytoolz-1.0.1 dotenv-0.9.9 eth-abi-5.2.0 eth-account-0.13.7 eth-hash-0.7.1 eth-keyfile-0.8.1 eth-keys-0.7.0 eth-rlp-2.2.0 eth-typing-5.2.1 eth-utils-5.3.0 frozenlist-1.7.0 hexbytes-1.3.1 multidict-6.6.4 parsimonious-0.10.0 propcache-0.3.2 pycryptodome-3.23.0 pydantic-2.11.7 pydantic-core-2.33.2 pyunormalize-16.0.0 regex-2025.7.34 rlp-4.1.0 toolz-1.0.0 types-requests-2.32.4.20250809 typing-inspection-0.4.1 web3-7.13.0 websockets-15.0.1 yarl-1.20.1\n"
     ]
    }
   ],
   "source": [
    "! pip install web3 dotenv pandas"
   ]
  },
  {
   "cell_type": "code",
   "execution_count": 2,
   "id": "6c583231",
   "metadata": {},
   "outputs": [
    {
     "name": "stdout",
     "output_type": "stream",
     "text": [
      "GATEWAY imported as https://mainnet.infura.io/v3/14b83f0d989a4d67bb9181a343654d0e\n"
     ]
    }
   ],
   "source": [
    "# Importing the Web3 object from web3.py\n",
    "# dotenv is imported for loading the Gateway environment variable from .env file\n",
    "# Remember that the Gateway we created has an API key in it (unique identifier for the API caller)\n",
    "\n",
    "from web3 import Web3\n",
    "import pandas as pd\n",
    "from dotenv import load_dotenv\n",
    "import os\n",
    "\n",
    "# Loading environment variables from .env file\n",
    "\n",
    "load_dotenv()\n",
    "GATEWAY = os.getenv(\"GATEWAY_URL\")\n",
    "\n",
    "print(f'GATEWAY imported as {GATEWAY}')"
   ]
  },
  {
   "cell_type": "code",
   "execution_count": 3,
   "id": "8a0fc5ec",
   "metadata": {},
   "outputs": [
    {
     "name": "stdout",
     "output_type": "stream",
     "text": [
      "Is the connection successful?: True\n"
     ]
    }
   ],
   "source": [
    "w3 = Web3(Web3.HTTPProvider(GATEWAY))\n",
    "print(f'Is the connection successful?: {w3.is_connected()}') # Should return True"
   ]
  },
  {
   "cell_type": "code",
   "execution_count": 4,
   "id": "54f79017",
   "metadata": {},
   "outputs": [],
   "source": [
    "def turn_to_checksum(address: str) -> str:\n",
    "    \"\"\"Convert an Ethereum address to its checksum format\"\"\"\n",
    "    if not Web3.is_checksum_address(address): # check if already checksum\n",
    "        return Web3.to_checksum_address(address) # if not we return checksum address\n",
    "    return address\n",
    "\n",
    "ACCOUNT_ADDRESS_RAW = \"0x38979DFdB5d8FD76FAD4E797c4660e20015C6a84\"\n",
    "ACCOUNT_ADDRESS = turn_to_checksum(ACCOUNT_ADDRESS_RAW)"
   ]
  },
  {
   "cell_type": "code",
   "execution_count": 5,
   "id": "b445f9e1",
   "metadata": {},
   "outputs": [
    {
     "data": {
      "text/plain": [
       "5"
      ]
     },
     "execution_count": 5,
     "metadata": {},
     "output_type": "execute_result"
    }
   ],
   "source": [
    "# Get number of transactions for a given address\n",
    "\n",
    "def get_transaction_count(address: str) -> int:\n",
    "    return w3.eth.get_transaction_count(address) # use the get_transaction_count method and pass through the address\n",
    "\n",
    "get_transaction_count(ACCOUNT_ADDRESS)"
   ]
  },
  {
   "cell_type": "code",
   "execution_count": 7,
   "id": "2eed1c76",
   "metadata": {},
   "outputs": [
    {
     "name": "stdout",
     "output_type": "stream",
     "text": [
      "Transaction Details: AttributeDict({'blockHash': HexBytes('0xf20aa677f9bad06b472f2734570992e6b74e07d0c07e5fba516b8924af5da024'), 'blockNumber': 22227671, 'from': '0x38979DFdB5d8FD76FAD4E797c4660e20015C6a84', 'gas': 21000, 'gasPrice': 951249593, 'maxFeePerGas': 1147752425, 'maxPriorityFeePerGas': 512247655, 'hash': HexBytes('0x50f6678c427392209a6a12dfa9bfd258503526ba4e4e2d80b27cf4b7579696a6'), 'input': HexBytes('0x'), 'nonce': 2, 'to': '0x2083b0413869f7b5b9e0eA27d20CB6dD3535f525', 'transactionIndex': 53, 'value': 4784490000000000, 'type': 2, 'accessList': [], 'chainId': 1, 'v': 0, 'r': HexBytes('0xab6dc09a1d9d85b6127af452f7f42b186d81240751d9022f9b9b198f04ee3139'), 's': HexBytes('0x24df5499c17941337a4d11f1162ac2db049ef467a9418692d21b832ec163a4dd'), 'yParity': 0})\n"
     ]
    }
   ],
   "source": [
    "# Fetch details for a transaction using transaction hash\n",
    "\n",
    "tx_hash = \"0x50f6678c427392209a6a12dfa9bfd258503526ba4e4e2d80b27cf4b7579696a6\"\n",
    "transaction = w3.eth.get_transaction(tx_hash)\n",
    "print(f'Transaction Details: {transaction}')\n",
    "# print(\"From:\", transaction['from']) # Sender address\n",
    "# print(\"To:\", transaction['to']) # Recipient address\n",
    "# print(\"Value (ETH):\", w3.from_wei(transaction['value'], 'ether')) # Transaction value in ETH\n",
    "# print(\"Gas Used:\", transaction['gas']) # Gas used for the transaction"
   ]
  },
  {
   "cell_type": "code",
   "execution_count": 8,
   "id": "7f42e92d",
   "metadata": {},
   "outputs": [
    {
     "name": "stdout",
     "output_type": "stream",
     "text": [
      "From: 0x38979DFdB5d8FD76FAD4E797c4660e20015C6a84\n",
      "To: 0x2083b0413869f7b5b9e0eA27d20CB6dD3535f525\n",
      "Value (ETH): 0.00478449\n",
      "Gas Used: 21000\n"
     ]
    }
   ],
   "source": [
    "# Fetch details for a transaction using transaction hash\n",
    "\n",
    "\n",
    "print(\"From:\", transaction['from']) # Sender address\n",
    "print(\"To:\", transaction['to']) # Recipient address\n",
    "print(\"Value (ETH):\", w3.from_wei(transaction['value'], 'ether')) # Transaction value in ETH\n",
    "print(\"Gas Used:\", transaction['gas']) # Gas used for the transaction"
   ]
  },
  {
   "cell_type": "code",
   "execution_count": 9,
   "id": "4198bf29",
   "metadata": {},
   "outputs": [
    {
     "data": {
      "text/plain": [
       "{'from': '0x2083b0413869f7b5b9e0eA27d20CB6dD3535f525',\n",
       " 'to': '0x38979DFdB5d8FD76FAD4E797c4660e20015C6a84',\n",
       " 'value (ETH)': Decimal('0.01'),\n",
       " 'gas used': 21000}"
      ]
     },
     "execution_count": 9,
     "metadata": {},
     "output_type": "execute_result"
    }
   ],
   "source": [
    "def get_tx_details(tx_hash: str) -> dict:\n",
    "    \"\"\"Fetches transaction details for a given transaction hash.\"\"\"\n",
    "    try:\n",
    "        transaction = w3.eth.get_transaction(tx_hash)\n",
    "    except Exception as e:\n",
    "        print(f\"Error fetching transaction details: {e}\")\n",
    "        return {}\n",
    "    \n",
    "    return {\n",
    "        \"from\": transaction['from'],\n",
    "        \"to\": transaction['to'],\n",
    "        \"value (ETH)\": w3.from_wei(transaction['value'], 'ether'),\n",
    "        \"gas used\": transaction['gas']\n",
    "    }\n",
    "    \n",
    "get_tx_details(\"0x34fcc447050e420b0a397d0de36f699e27a86ef0f5f28a6932c0f9b8247a51c4\")"
   ]
  },
  {
   "cell_type": "code",
   "execution_count": 11,
   "id": "7fac6187",
   "metadata": {},
   "outputs": [
    {
     "name": "stdout",
     "output_type": "stream",
     "text": [
      "Block Number: 23183835\n",
      "Block Hash: 410e4dd6796b6cc47b29b9dfc1a1f6dd4aff6c9ee91925c2663681858f2f897e\n",
      "Transactions in Block: 416\n",
      "baseFeePerGas: 596511825\n"
     ]
    }
   ],
   "source": [
    "# Checking the latest block number\n",
    "\n",
    "latest_block = w3.eth.get_block('latest')  \n",
    "\n",
    "print(\"Block Number:\", latest_block['number'])  \n",
    "print(\"Block Hash:\", latest_block['hash'].hex())  \n",
    "print(\"Transactions in Block:\", len(latest_block['transactions']))\n",
    "print(\"baseFeePerGas:\", latest_block['baseFeePerGas'])"
   ]
  },
  {
   "cell_type": "code",
   "execution_count": 12,
   "id": "b113b325",
   "metadata": {},
   "outputs": [
    {
     "name": "stdout",
     "output_type": "stream",
     "text": [
      "Ether Balance for 0x38979DFdB5d8FD76FAD4E797c4660e20015C6a84: 0.003843781825617197 ETH\n"
     ]
    }
   ],
   "source": [
    "# Ether Balance\n",
    "\n",
    "raw_balance = w3.eth.get_balance(ACCOUNT_ADDRESS)\n",
    "normalized_balance = w3.from_wei(raw_balance, 'ether')\n",
    "\n",
    "print(f\"Ether Balance for {ACCOUNT_ADDRESS}: {normalized_balance} ETH\")"
   ]
  },
  {
   "cell_type": "markdown",
   "id": "2ba951d8",
   "metadata": {},
   "source": [
    "full erc20 ABI  https://gist.github.com/veox/8800debbf56e24718f9f483e1e40c35c"
   ]
  },
  {
   "cell_type": "code",
   "execution_count": 13,
   "id": "fe109702",
   "metadata": {},
   "outputs": [
    {
     "name": "stdout",
     "output_type": "stream",
     "text": [
      "USDC Balance for 0xe1940f578743367F38D3f25c2D2d32D6636929B6: 1,399,999,999 USDC\n"
     ]
    }
   ],
   "source": [
    "# Token Balance\n",
    "\n",
    "BINANCE_ACCOUNT_ADDRESS_RAW = \"0xe1940f578743367F38D3f25c2D2d32D6636929B6\"\n",
    "BINANCE_ACCOUNT_ADDRESS = turn_to_checksum(BINANCE_ACCOUNT_ADDRESS_RAW)\n",
    "\n",
    "USDC_ADDRESS = \"0xA0b86991c6218b36c1d19D4a2e9Eb0cE3606eB48\" # Ethereum USDC Address\n",
    "ERC20_ABI = [\n",
    "    {\n",
    "        \"constant\": True,\n",
    "        \"inputs\": [{\"name\": \"_owner\", \"type\": \"address\"}],\n",
    "        \"name\": \"balanceOf\",\n",
    "        \"outputs\": [{\"name\": \"balance\", \"type\": \"uint256\"}],\n",
    "        \"payable\": False,\n",
    "        \"stateMutability\": \"view\",\n",
    "        \"type\": \"function\"\n",
    "    },\n",
    "    {\n",
    "        \"constant\": True,\n",
    "        \"inputs\": [],\n",
    "        \"name\": \"totalSupply\",\n",
    "        \"outputs\": [\n",
    "            {\n",
    "                \"name\": \"\",\n",
    "                \"type\": \"uint256\"\n",
    "            }\n",
    "        ],\n",
    "        \"payable\": False,\n",
    "        \"stateMutability\": \"view\",\n",
    "        \"type\": \"function\"\n",
    "    },\n",
    "    {\n",
    "        \"constant\": True,\n",
    "        \"inputs\": [],\n",
    "        \"name\": \"decimals\",\n",
    "        \"outputs\": [\n",
    "            {\n",
    "                \"name\": \"\",\n",
    "                \"type\": \"uint8\"\n",
    "            }\n",
    "        ],\n",
    "        \"payable\": False,\n",
    "        \"stateMutability\": \"view\",\n",
    "        \"type\": \"function\"\n",
    "    },\n",
    "]\n",
    "\n",
    "usdc_contract = w3.eth.contract(address=USDC_ADDRESS, abi=ERC20_ABI) # Create contract client to interact with the contract functions\n",
    "decimals = usdc_contract.functions.decimals().call()\n",
    "raw_balance = usdc_contract.functions.balanceOf(BINANCE_ACCOUNT_ADDRESS).call() # pass address to balanceOf function\n",
    "normalized_balance = raw_balance / 10 ** decimals\n",
    "\n",
    "print(f\"USDC Balance for {BINANCE_ACCOUNT_ADDRESS}: {normalized_balance:,.0f} USDC\")"
   ]
  },
  {
   "cell_type": "code",
   "execution_count": 14,
   "id": "ff7e24e3",
   "metadata": {},
   "outputs": [
    {
     "data": {
      "text/plain": [
       "{'ether': 0,\n",
       " 'tokens': {'0xA0b86991c6218b36c1d19D4a2e9Eb0cE3606eB48': 1399999999.009477}}"
      ]
     },
     "execution_count": 14,
     "metadata": {},
     "output_type": "execute_result"
    }
   ],
   "source": [
    "def get_balances(address: str, tokens: list) -> dict:\n",
    "    \"\"\"Gets Ether and token balances for a given address.\"\"\"\n",
    "    raw_ether_balance = w3.eth.get_balance(address)\n",
    "    normalized_ether_balance = w3.from_wei(raw_ether_balance, 'ether')\n",
    "\n",
    "    if tokens:\n",
    "        balances = {}\n",
    "        for token in tokens:\n",
    "            token_contract = w3.eth.contract(address=token, abi=ERC20_ABI)\n",
    "            raw_balance = token_contract.functions.balanceOf(address).call()\n",
    "            decimals = token_contract.functions.decimals().call()\n",
    "            normalized_balance = raw_balance / 10 ** decimals\n",
    "            balances[token] = normalized_balance\n",
    "        return {\"ether\": normalized_ether_balance, \"tokens\": balances}\n",
    "    return {\"ether\": normalized_ether_balance}\n",
    "\n",
    "get_balances(BINANCE_ACCOUNT_ADDRESS, [USDC_ADDRESS])"
   ]
  },
  {
   "cell_type": "code",
   "execution_count": 15,
   "id": "bd8b210b",
   "metadata": {},
   "outputs": [
    {
     "data": {
      "text/plain": [
       "'0xddf252ad1be2c89b69c2b068fc378daa952ba7f163c4a11628f55a4df523b3ef'"
      ]
     },
     "execution_count": 15,
     "metadata": {},
     "output_type": "execute_result"
    }
   ],
   "source": [
    "# First we identify topic0; unique hash for ERC20 transfer events\n",
    "\n",
    "erc20_transfer_topic = w3.keccak(text=\"Transfer(address,address,uint256)\").hex() # function name and arguments as a hex string\n",
    "if '0x' not in erc20_transfer_topic:\n",
    "    erc20_transfer_topic = '0x' + erc20_transfer_topic\n",
    "erc20_transfer_topic"
   ]
  },
  {
   "cell_type": "code",
   "execution_count": 16,
   "id": "4059eb3b",
   "metadata": {},
   "outputs": [
    {
     "name": "stdout",
     "output_type": "stream",
     "text": [
      "1 token transfers found\n",
      "logs: [AttributeDict({'removed': False, 'logIndex': 366, 'transactionIndex': 130, 'transactionHash': HexBytes('0xe5f7a61bc1c31a9442a02854f5b941f390b66a0e46a5f48cc490e791f1480e2d'), 'blockHash': HexBytes('0x846ba7b32e8993d9011b3aa928eaca039a495b5b05b7c71e9fc5e77a96f947c2'), 'blockNumber': 22227642, 'address': '0xA0b86991c6218b36c1d19D4a2e9Eb0cE3606eB48', 'data': HexBytes('0x00000000000000000000000000000000000000000000000000000000000f416e'), 'topics': [HexBytes('0xddf252ad1be2c89b69c2b068fc378daa952ba7f163c4a11628f55a4df523b3ef'), HexBytes('0x0000000000000000000000002083b0413869f7b5b9e0ea27d20cb6dd3535f525'), HexBytes('0x00000000000000000000000038979dfdb5d8fd76fad4e797c4660e20015c6a84')]})]\n"
     ]
    }
   ],
   "source": [
    "def address_to_topic(address: str) -> str:\n",
    "    \"\"\"Convert an Ethereum address into a 32-byte topic string\"\"\"\n",
    "    return Web3.to_hex(Web3.to_bytes(hexstr=address).rjust(32, b'\\0')) #Ethereum addresses are only 20 bytes long, so we pad with zeros for the API\n",
    "\n",
    "logs = w3.eth.get_logs({\n",
    "    \"fromBlock\": \"earliest\",\n",
    "    \"toBlock\": \"latest\",\n",
    "    \"address\": USDC_ADDRESS,\n",
    "    \"topics\": [erc20_transfer_topic, None, address_to_topic(ACCOUNT_ADDRESS)] # Topic 0 is the Transfer event signature, Topic 1 is the sender (null for all), Topic 2 is the recipient\n",
    "})\n",
    "\n",
    "print(len(logs), \"token transfers found\")\n",
    "print(f'logs: {logs}')"
   ]
  },
  {
   "cell_type": "code",
   "execution_count": 17,
   "id": "6c11ed8a",
   "metadata": {},
   "outputs": [
    {
     "name": "stdout",
     "output_type": "stream",
     "text": [
      "{'block': 22227642, 'timestamp': 1744157015, 'tx': 'e5f7a61bc1c31a9442a02854f5b941f390b66a0e46a5f48cc490e791f1480e2d', 'from': '0x2083b0413869f7b5b9e0eA27d20CB6dD3535f525', 'to': '0x38979DFdB5d8FD76FAD4E797c4660e20015C6a84', 'value': 0.99979}\n"
     ]
    }
   ],
   "source": [
    "# Decode logs into readable transfers\n",
    "\n",
    "transfers = []\n",
    "for log in logs:\n",
    "    from_addr = \"0x\" + log[\"topics\"][1].hex()[-40:]  # last 20 bytes as ethereum address is only 20 bytes long\n",
    "    to_addr   = \"0x\" + log[\"topics\"][2].hex()[-40:]\n",
    "\n",
    "    # handle both hexstring or bytes case\n",
    "    if isinstance(log[\"data\"], bytes):\n",
    "        value = int.from_bytes(log[\"data\"], byteorder=\"big\")\n",
    "    else:\n",
    "        value = int(log[\"data\"], 16) # interpret this string as base-16 (hexadecimal)\n",
    "\n",
    "    # We can get the timestamp by looking up the block\n",
    "    block = w3.eth.get_block(log[\"blockNumber\"]) \n",
    "    timestamp = block.timestamp\n",
    "\n",
    "    # We append the transfer details to transfers list\n",
    "    transfers.append({\n",
    "        \"block\": block.number,\n",
    "        \"timestamp\": timestamp,\n",
    "        \"tx\": log[\"transactionHash\"].hex(),\n",
    "        \"from\": Web3.to_checksum_address(from_addr),\n",
    "        \"to\": Web3.to_checksum_address(to_addr),\n",
    "        \"value\": (value / 10 ** decimals) # normalize value using the decimals\n",
    "    })\n",
    "\n",
    "for t in transfers[:5]:  # print first 5\n",
    "    print(t)"
   ]
  },
  {
   "cell_type": "code",
   "execution_count": 18,
   "id": "c12c8115",
   "metadata": {},
   "outputs": [],
   "source": [
    "def get_token_transfers(address: str, token_address: str, from_block: str = \"earliest\", to_block: str = \"latest\") -> list:\n",
    "    \"\"\"Retreives token transfers for a given address (tokens sent to the recipient)\"\"\"\n",
    "    logs = w3.eth.get_logs({\n",
    "        \"fromBlock\": from_block,\n",
    "        \"toBlock\": to_block,\n",
    "        \"address\": token_address,\n",
    "        \"topics\": [erc20_transfer_topic, None, address_to_topic(address)]\n",
    "    })\n",
    "\n",
    "    token_contract = w3.eth.contract(address=token_address, abi=ERC20_ABI)\n",
    "    decimals = token_contract.functions.decimals().call()\n",
    "\n",
    "    # Decode logs into readable transfers\n",
    "    transfers = []\n",
    "    for log in logs:\n",
    "        from_addr = \"0x\" + log[\"topics\"][1].hex()[-40:]  # last 20 bytes\n",
    "        to_addr   = \"0x\" + log[\"topics\"][2].hex()[-40:]\n",
    "        hash      = \"0x\" + log[\"transactionHash\"].hex()\n",
    "\n",
    "        # handle both hexstring or bytes case\n",
    "        if isinstance(log[\"data\"], bytes):\n",
    "            value = int.from_bytes(log[\"data\"], byteorder=\"big\")\n",
    "        else:\n",
    "            value = int(log[\"data\"], 16) # interpret this string as base-16 (hexadecimal)\n",
    "\n",
    "        block = w3.eth.get_block(log[\"blockNumber\"])\n",
    "        timestamp = block.timestamp\n",
    "\n",
    "        transfers.append({\n",
    "            \"block\": block.number,\n",
    "            \"timestamp\": str(pd.to_datetime(timestamp, unit='s')),\n",
    "            \"tx\": hash,\n",
    "            \"from\": Web3.to_checksum_address(from_addr),\n",
    "            \"to\": Web3.to_checksum_address(to_addr),\n",
    "            \"value\": (value / 10 ** decimals) # normalize value using the decimals\n",
    "        })\n",
    "\n",
    "    return transfers\n",
    "\n",
    "transfers = get_token_transfers(BINANCE_ACCOUNT_ADDRESS, USDC_ADDRESS)"
   ]
  },
  {
   "cell_type": "code",
   "execution_count": null,
   "id": "1d4a21e7",
   "metadata": {},
   "outputs": [
    {
     "data": {
      "text/html": [
       "<div>\n",
       "<style scoped>\n",
       "    .dataframe tbody tr th:only-of-type {\n",
       "        vertical-align: middle;\n",
       "    }\n",
       "\n",
       "    .dataframe tbody tr th {\n",
       "        vertical-align: top;\n",
       "    }\n",
       "\n",
       "    .dataframe thead th {\n",
       "        text-align: right;\n",
       "    }\n",
       "</style>\n",
       "<table border=\"1\" class=\"dataframe\">\n",
       "  <thead>\n",
       "    <tr style=\"text-align: right;\">\n",
       "      <th></th>\n",
       "      <th>block</th>\n",
       "      <th>timestamp</th>\n",
       "      <th>tx</th>\n",
       "      <th>from</th>\n",
       "      <th>to</th>\n",
       "      <th>value</th>\n",
       "    </tr>\n",
       "  </thead>\n",
       "  <tbody>\n",
       "    <tr>\n",
       "      <th>0</th>\n",
       "      <td>21385773</td>\n",
       "      <td>2024-12-12 10:17:11</td>\n",
       "      <td>0x8c92c649708d48cd4e4effc0e09496b7a563055891fa...</td>\n",
       "      <td>0x3d2419F94e38646DeeB009eDDbE562De2919d87B</td>\n",
       "      <td>0xe1940f578743367F38D3f25c2D2d32D6636929B6</td>\n",
       "      <td>2.000000e+00</td>\n",
       "    </tr>\n",
       "    <tr>\n",
       "      <th>1</th>\n",
       "      <td>21392378</td>\n",
       "      <td>2024-12-13 08:24:47</td>\n",
       "      <td>0x847d7da257d1732bf536d1d7a9024380a897535608f3...</td>\n",
       "      <td>0xD6153F5af5679a75cC85D8974463545181f48772</td>\n",
       "      <td>0xe1940f578743367F38D3f25c2D2d32D6636929B6</td>\n",
       "      <td>1.000948e+01</td>\n",
       "    </tr>\n",
       "    <tr>\n",
       "      <th>2</th>\n",
       "      <td>21392388</td>\n",
       "      <td>2024-12-13 08:26:47</td>\n",
       "      <td>0xd9081337c35d613ee49d9a492d25bc378556d9576063...</td>\n",
       "      <td>0xD6153F5af5679a75cC85D8974463545181f48772</td>\n",
       "      <td>0xe1940f578743367F38D3f25c2D2d32D6636929B6</td>\n",
       "      <td>2.200000e+08</td>\n",
       "    </tr>\n",
       "    <tr>\n",
       "      <th>3</th>\n",
       "      <td>21400934</td>\n",
       "      <td>2024-12-14 13:04:35</td>\n",
       "      <td>0x0d8bb77f6042bdc666e9118f74b95c734e80a27e0a4d...</td>\n",
       "      <td>0xD6153F5af5679a75cC85D8974463545181f48772</td>\n",
       "      <td>0xe1940f578743367F38D3f25c2D2d32D6636929B6</td>\n",
       "      <td>2.200089e+08</td>\n",
       "    </tr>\n",
       "    <tr>\n",
       "      <th>4</th>\n",
       "      <td>21407867</td>\n",
       "      <td>2024-12-15 12:17:47</td>\n",
       "      <td>0x535703f843343ba486c24502569c430d59b810f457df...</td>\n",
       "      <td>0xD6153F5af5679a75cC85D8974463545181f48772</td>\n",
       "      <td>0xe1940f578743367F38D3f25c2D2d32D6636929B6</td>\n",
       "      <td>2.216424e+08</td>\n",
       "    </tr>\n",
       "    <tr>\n",
       "      <th>5</th>\n",
       "      <td>22523343</td>\n",
       "      <td>2025-05-20 09:48:59</td>\n",
       "      <td>0xfe4190ffccbf410f5648aae3b0039a0c92fb3f9f9ffd...</td>\n",
       "      <td>0xF977814e90dA44bFA03b6295A0616a897441aceC</td>\n",
       "      <td>0xe1940f578743367F38D3f25c2D2d32D6636929B6</td>\n",
       "      <td>7.383487e+08</td>\n",
       "    </tr>\n",
       "  </tbody>\n",
       "</table>\n",
       "</div>"
      ],
      "text/plain": [
       "      block            timestamp  \\\n",
       "0  21385773  2024-12-12 10:17:11   \n",
       "1  21392378  2024-12-13 08:24:47   \n",
       "2  21392388  2024-12-13 08:26:47   \n",
       "3  21400934  2024-12-14 13:04:35   \n",
       "4  21407867  2024-12-15 12:17:47   \n",
       "5  22523343  2025-05-20 09:48:59   \n",
       "\n",
       "                                                  tx  \\\n",
       "0  0x8c92c649708d48cd4e4effc0e09496b7a563055891fa...   \n",
       "1  0x847d7da257d1732bf536d1d7a9024380a897535608f3...   \n",
       "2  0xd9081337c35d613ee49d9a492d25bc378556d9576063...   \n",
       "3  0x0d8bb77f6042bdc666e9118f74b95c734e80a27e0a4d...   \n",
       "4  0x535703f843343ba486c24502569c430d59b810f457df...   \n",
       "5  0xfe4190ffccbf410f5648aae3b0039a0c92fb3f9f9ffd...   \n",
       "\n",
       "                                         from  \\\n",
       "0  0x3d2419F94e38646DeeB009eDDbE562De2919d87B   \n",
       "1  0xD6153F5af5679a75cC85D8974463545181f48772   \n",
       "2  0xD6153F5af5679a75cC85D8974463545181f48772   \n",
       "3  0xD6153F5af5679a75cC85D8974463545181f48772   \n",
       "4  0xD6153F5af5679a75cC85D8974463545181f48772   \n",
       "5  0xF977814e90dA44bFA03b6295A0616a897441aceC   \n",
       "\n",
       "                                           to         value  \n",
       "0  0xe1940f578743367F38D3f25c2D2d32D6636929B6  2.000000e+00  \n",
       "1  0xe1940f578743367F38D3f25c2D2d32D6636929B6  1.000948e+01  \n",
       "2  0xe1940f578743367F38D3f25c2D2d32D6636929B6  2.200000e+08  \n",
       "3  0xe1940f578743367F38D3f25c2D2d32D6636929B6  2.200089e+08  \n",
       "4  0xe1940f578743367F38D3f25c2D2d32D6636929B6  2.216424e+08  \n",
       "5  0xe1940f578743367F38D3f25c2D2d32D6636929B6  7.383487e+08  "
      ]
     },
     "execution_count": 20,
     "metadata": {},
     "output_type": "execute_result"
    }
   ],
   "source": [
    "transfers_df = pd.DataFrame(transfers)\n",
    "transfers_df\n"
   ]
  },
  {
   "cell_type": "code",
   "execution_count": 21,
   "id": "95f1a7ec",
   "metadata": {},
   "outputs": [
    {
     "data": {
      "text/plain": [
       "<Axes: xlabel='timestamp'>"
      ]
     },
     "execution_count": 21,
     "metadata": {},
     "output_type": "execute_result"
    },
    {
     "data": {
      "image/png": "[encoded data removed]",
      "text/plain": [
       "<Figure size 640x480 with 1 Axes>"
      ]
     },
     "metadata": {},
     "output_type": "display_data"
    }
   ],
   "source": [
    "transfers_df.set_index('timestamp', inplace=True)\n",
    "transfers_df.index = pd.to_datetime(transfers_df.index)\n",
    "transfers_df[['value']].plot(kind='bar')"
   ]
  },
  {
   "cell_type": "code",
   "execution_count": 22,
   "id": "e830fbed",
   "metadata": {},
   "outputs": [],
   "source": [
    "from ens import ENS # automatically included in web3.py\n",
    "\n",
    "ns = ENS.from_web3(w3) # client for ENS API\n"
   ]
  },
  {
   "cell_type": "code",
   "execution_count": null,
   "id": "db96fc21",
   "metadata": {},
   "outputs": [
    {
     "name": "stdout",
     "output_type": "stream",
     "text": [
      "domain: brandynham.eth\n",
      "address: 0x2083b0413869f7b5b9e0eA27d20CB6dD3535f525\n"
     ]
    }
   ],
   "source": [
    "# lookup by domain brandynham.eth\n",
    "domain = \"brandynham.eth\"\n",
    "resolved = ns.address(domain) #pass through the domain to the address method\n",
    "print(f'domain: {domain}')\n",
    "print(f'address: {resolved}')"
   ]
  },
  {
   "cell_type": "code",
   "execution_count": 24,
   "id": "e23b38c5",
   "metadata": {},
   "outputs": [
    {
     "name": "stdout",
     "output_type": "stream",
     "text": [
      "address: 0x6Cf624AcA916066340F0347375c5E87A8C250D38\n",
      "domain: lll111.eth\n"
     ]
    }
   ],
   "source": [
    "# lookup by address\n",
    "test_address_raw = \"0x6cf624aca916066340f0347375c5e87a8c250d38\"\n",
    "test_address = turn_to_checksum(test_address_raw)\n",
    "domain = ns.name(test_address) # Pass through address to the name method\n",
    "print(f'address: {test_address}')\n",
    "print(f'domain: {domain}')"
   ]
  }
 ],
 "metadata": {
  "kernelspec": {
   "display_name": "myenv",
   "language": "python",
   "name": "python3"
  },
  "language_info": {
   "codemirror_mode": {
    "name": "ipython",
    "version": 3
   },
   "file_extension": ".py",
   "mimetype": "text/x-python",
   "name": "python",
   "nbconvert_exporter": "python",
   "pygments_lexer": "ipython3",
   "version": "3.12.3"
  }
 },
 "nbformat": 4,
 "nbformat_minor": 5
}
