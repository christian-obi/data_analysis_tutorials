{
 "cells": [
  {
   "cell_type": "markdown",
   "id": "e86123b6",
   "metadata": {},
   "source": [
    "## Building streamli app"
   ]
  },
  {
   "cell_type": "markdown",
   "id": "58f859f3",
   "metadata": {},
   "source": [
    "#### streamlit is a python library to turn scripts into web application"
   ]
  },
  {
   "cell_type": "code",
   "execution_count": 2,
   "id": "74cb6328",
   "metadata": {},
   "outputs": [],
   "source": [
    "# pip install streamlit\n",
    "\n",
    "import streamlit as st"
   ]
  }
 ],
 "metadata": {
  "kernelspec": {
   "display_name": "myenv",
   "language": "python",
   "name": "python3"
  },
  "language_info": {
   "codemirror_mode": {
    "name": "ipython",
    "version": 3
   },
   "file_extension": ".py",
   "mimetype": "text/x-python",
   "name": "python",
   "nbconvert_exporter": "python",
   "pygments_lexer": "ipython3",
   "version": "3.12.3"
  }
 },
 "nbformat": 4,
 "nbformat_minor": 5
}
