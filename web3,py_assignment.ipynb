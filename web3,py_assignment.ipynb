{
 "cells": [
  {
   "cell_type": "code",
   "execution_count": 1,
   "id": "46588f48",
   "metadata": {},
   "outputs": [
    {
     "name": "stdout",
     "output_type": "stream",
     "text": [
      "Requirement already satisfied: web3 in /home/realist/data-analysis/myenv/lib/python3.12/site-packages (7.13.0)\n",
      "Requirement already satisfied: dotenv in /home/realist/data-analysis/myenv/lib/python3.12/site-packages (0.9.9)\n",
      "Requirement already satisfied: pandas in /home/realist/data-analysis/myenv/lib/python3.12/site-packages (2.3.1)\n",
      "Requirement already satisfied: eth-abi>=5.0.1 in /home/realist/data-analysis/myenv/lib/python3.12/site-packages (from web3) (5.2.0)\n",
      "Requirement already satisfied: eth-account>=0.13.6 in /home/realist/data-analysis/myenv/lib/python3.12/site-packages (from web3) (0.13.7)\n",
      "Requirement already satisfied: eth-hash>=0.5.1 in /home/realist/data-analysis/myenv/lib/python3.12/site-packages (from eth-hash[pycryptodome]>=0.5.1->web3) (0.7.1)\n",
      "Requirement already satisfied: eth-typing>=5.0.0 in /home/realist/data-analysis/myenv/lib/python3.12/site-packages (from web3) (5.2.1)\n",
      "Requirement already satisfied: eth-utils>=5.0.0 in /home/realist/data-analysis/myenv/lib/python3.12/site-packages (from web3) (5.3.0)\n",
      "Requirement already satisfied: hexbytes>=1.2.0 in /home/realist/data-analysis/myenv/lib/python3.12/site-packages (from web3) (1.3.1)\n",
      "Requirement already satisfied: aiohttp>=3.7.4.post0 in /home/realist/data-analysis/myenv/lib/python3.12/site-packages (from web3) (3.12.15)\n",
      "Requirement already satisfied: pydantic>=2.4.0 in /home/realist/data-analysis/myenv/lib/python3.12/site-packages (from web3) (2.11.7)\n",
      "Requirement already satisfied: requests>=2.23.0 in /home/realist/data-analysis/myenv/lib/python3.12/site-packages (from web3) (2.32.4)\n",
      "Requirement already satisfied: typing-extensions>=4.0.1 in /home/realist/data-analysis/myenv/lib/python3.12/site-packages (from web3) (4.14.1)\n",
      "Requirement already satisfied: types-requests>=2.0.0 in /home/realist/data-analysis/myenv/lib/python3.12/site-packages (from web3) (2.32.4.20250809)\n",
      "Requirement already satisfied: websockets<16.0.0,>=10.0.0 in /home/realist/data-analysis/myenv/lib/python3.12/site-packages (from web3) (15.0.1)\n",
      "Requirement already satisfied: pyunormalize>=15.0.0 in /home/realist/data-analysis/myenv/lib/python3.12/site-packages (from web3) (16.0.0)\n",
      "Requirement already satisfied: python-dotenv in /home/realist/data-analysis/myenv/lib/python3.12/site-packages (from dotenv) (1.1.1)\n",
      "Requirement already satisfied: numpy>=1.26.0 in /home/realist/data-analysis/myenv/lib/python3.12/site-packages (from pandas) (2.3.1)\n",
      "Requirement already satisfied: python-dateutil>=2.8.2 in /home/realist/data-analysis/myenv/lib/python3.12/site-packages (from pandas) (2.9.0.post0)\n",
      "Requirement already satisfied: pytz>=2020.1 in /home/realist/data-analysis/myenv/lib/python3.12/site-packages (from pandas) (2025.2)\n",
      "Requirement already satisfied: tzdata>=2022.7 in /home/realist/data-analysis/myenv/lib/python3.12/site-packages (from pandas) (2025.2)\n",
      "Requirement already satisfied: aiohappyeyeballs>=2.5.0 in /home/realist/data-analysis/myenv/lib/python3.12/site-packages (from aiohttp>=3.7.4.post0->web3) (2.6.1)\n",
      "Requirement already satisfied: aiosignal>=1.4.0 in /home/realist/data-analysis/myenv/lib/python3.12/site-packages (from aiohttp>=3.7.4.post0->web3) (1.4.0)\n",
      "Requirement already satisfied: attrs>=17.3.0 in /home/realist/data-analysis/myenv/lib/python3.12/site-packages (from aiohttp>=3.7.4.post0->web3) (25.3.0)\n",
      "Requirement already satisfied: frozenlist>=1.1.1 in /home/realist/data-analysis/myenv/lib/python3.12/site-packages (from aiohttp>=3.7.4.post0->web3) (1.7.0)\n",
      "Requirement already satisfied: multidict<7.0,>=4.5 in /home/realist/data-analysis/myenv/lib/python3.12/site-packages (from aiohttp>=3.7.4.post0->web3) (6.6.4)\n",
      "Requirement already satisfied: propcache>=0.2.0 in /home/realist/data-analysis/myenv/lib/python3.12/site-packages (from aiohttp>=3.7.4.post0->web3) (0.3.2)\n",
      "Requirement already satisfied: yarl<2.0,>=1.17.0 in /home/realist/data-analysis/myenv/lib/python3.12/site-packages (from aiohttp>=3.7.4.post0->web3) (1.20.1)\n",
      "Requirement already satisfied: parsimonious<0.11.0,>=0.10.0 in /home/realist/data-analysis/myenv/lib/python3.12/site-packages (from eth-abi>=5.0.1->web3) (0.10.0)\n",
      "Requirement already satisfied: bitarray>=2.4.0 in /home/realist/data-analysis/myenv/lib/python3.12/site-packages (from eth-account>=0.13.6->web3) (3.6.1)\n",
      "Requirement already satisfied: eth-keyfile<0.9.0,>=0.7.0 in /home/realist/data-analysis/myenv/lib/python3.12/site-packages (from eth-account>=0.13.6->web3) (0.8.1)\n",
      "Requirement already satisfied: eth-keys>=0.4.0 in /home/realist/data-analysis/myenv/lib/python3.12/site-packages (from eth-account>=0.13.6->web3) (0.7.0)\n",
      "Requirement already satisfied: eth-rlp>=2.1.0 in /home/realist/data-analysis/myenv/lib/python3.12/site-packages (from eth-account>=0.13.6->web3) (2.2.0)\n",
      "Requirement already satisfied: rlp>=1.0.0 in /home/realist/data-analysis/myenv/lib/python3.12/site-packages (from eth-account>=0.13.6->web3) (4.1.0)\n",
      "Requirement already satisfied: ckzg>=2.0.0 in /home/realist/data-analysis/myenv/lib/python3.12/site-packages (from eth-account>=0.13.6->web3) (2.1.1)\n",
      "Requirement already satisfied: pycryptodome<4,>=3.6.6 in /home/realist/data-analysis/myenv/lib/python3.12/site-packages (from eth-hash[pycryptodome]>=0.5.1->web3) (3.23.0)\n",
      "Requirement already satisfied: cytoolz>=0.10.1 in /home/realist/data-analysis/myenv/lib/python3.12/site-packages (from eth-utils>=5.0.0->web3) (1.0.1)\n",
      "Requirement already satisfied: annotated-types>=0.6.0 in /home/realist/data-analysis/myenv/lib/python3.12/site-packages (from pydantic>=2.4.0->web3) (0.7.0)\n",
      "Requirement already satisfied: pydantic-core==2.33.2 in /home/realist/data-analysis/myenv/lib/python3.12/site-packages (from pydantic>=2.4.0->web3) (2.33.2)\n",
      "Requirement already satisfied: typing-inspection>=0.4.0 in /home/realist/data-analysis/myenv/lib/python3.12/site-packages (from pydantic>=2.4.0->web3) (0.4.1)\n",
      "Requirement already satisfied: six>=1.5 in /home/realist/data-analysis/myenv/lib/python3.12/site-packages (from python-dateutil>=2.8.2->pandas) (1.17.0)\n",
      "Requirement already satisfied: charset_normalizer<4,>=2 in /home/realist/data-analysis/myenv/lib/python3.12/site-packages (from requests>=2.23.0->web3) (3.4.2)\n",
      "Requirement already satisfied: idna<4,>=2.5 in /home/realist/data-analysis/myenv/lib/python3.12/site-packages (from requests>=2.23.0->web3) (3.10)\n",
      "Requirement already satisfied: urllib3<3,>=1.21.1 in /home/realist/data-analysis/myenv/lib/python3.12/site-packages (from requests>=2.23.0->web3) (2.5.0)\n",
      "Requirement already satisfied: certifi>=2017.4.17 in /home/realist/data-analysis/myenv/lib/python3.12/site-packages (from requests>=2.23.0->web3) (2025.7.14)\n",
      "Requirement already satisfied: toolz>=0.8.0 in /home/realist/data-analysis/myenv/lib/python3.12/site-packages (from cytoolz>=0.10.1->eth-utils>=5.0.0->web3) (1.0.0)\n",
      "Requirement already satisfied: regex>=2022.3.15 in /home/realist/data-analysis/myenv/lib/python3.12/site-packages (from parsimonious<0.11.0,>=0.10.0->eth-abi>=5.0.1->web3) (2025.7.34)\n"
     ]
    }
   ],
   "source": [
    "# import and configs\n",
    "! pip install web3 dotenv pandas"
   ]
  },
  {
   "cell_type": "code",
   "execution_count": 4,
   "id": "ac150959",
   "metadata": {},
   "outputs": [
    {
     "name": "stdout",
     "output_type": "stream",
     "text": [
      "https://mainnet.infura.io/v3/14b83f0d989a4d67bb9181a343654d0e\n"
     ]
    }
   ],
   "source": [
    "# importing the web3 object from web3.py\n",
    "\n",
    "from web3 import Web3\n",
    "import pandas as pd\n",
    "from dotenv import load_dotenv\n",
    "import os\n",
    "\n",
    "# load env variable from .env file\n",
    "\n",
    "load_dotenv()\n",
    "GATEWAY = os.getenv(\"GATEWAY_URL\")\n",
    "\n",
    "print(GATEWAY)"
   ]
  },
  {
   "cell_type": "code",
   "execution_count": 6,
   "id": "0afa6abf",
   "metadata": {},
   "outputs": [
    {
     "name": "stdout",
     "output_type": "stream",
     "text": [
      "Is connected successfully= True\n"
     ]
    }
   ],
   "source": [
    "w3 = Web3(Web3.HTTPProvider(GATEWAY))\n",
    "\n",
    "print(f'Is connected successfully= {w3.is_connected()}')"
   ]
  },
  {
   "cell_type": "code",
   "execution_count": 7,
   "id": "c93b8479",
   "metadata": {},
   "outputs": [],
   "source": [
    "# function to change address to checksum\n",
    "\n",
    "def turn_to_checksum(address: str) -> str:\n",
    "    \"\"\"converts address to its checksum format\"\"\"\n",
    "    if not Web3.is_checksum_address(address):\n",
    "        return Web3.to_checksum_address(address)\n",
    "    return address"
   ]
  },
  {
   "cell_type": "markdown",
   "id": "489bc6d9",
   "metadata": {},
   "source": [
    "## Assignment\n",
    "### create a function that convert block_number to timestamp(human readable)"
   ]
  },
  {
   "cell_type": "code",
   "execution_count": 10,
   "id": "e201db98",
   "metadata": {},
   "outputs": [],
   "source": [
    "def block_to_timestamp(block_number: int):\n",
    "    \"\"\"converts block number to timestamp\"\"\"\n",
    "    block = w3.eth.get_block(block_number)\n",
    "    timestamp = block.timestamp\n",
    "    return pd.to_datetime(timestamp, unit='s')\n",
    "\n",
    "    "
   ]
  },
  {
   "cell_type": "code",
   "execution_count": 11,
   "id": "22d71306",
   "metadata": {},
   "outputs": [
    {
     "data": {
      "text/plain": [
       "Timestamp('2025-08-29 18:27:11')"
      ]
     },
     "execution_count": 11,
     "metadata": {},
     "output_type": "execute_result"
    }
   ],
   "source": [
    "block_to_timestamp(23248570)"
   ]
  },
  {
   "cell_type": "markdown",
   "id": "809b82cc",
   "metadata": {},
   "source": [
    "### calculate average gas price of the last 10 blocks"
   ]
  },
  {
   "cell_type": "code",
   "execution_count": null,
   "id": "ffb3a418",
   "metadata": {},
   "outputs": [
    {
     "name": "stdout",
     "output_type": "stream",
     "text": [
      "Average gas price (last 10 blocks): 0.95155564401849567890167236328125 gwei\n"
     ]
    }
   ],
   "source": [
    "\n",
    "# calculate the average gas price of the last n blocks\n",
    "def average_gas_price_last_blocks(n=10):\n",
    "    \"\"\"Calculate average gas price of the last n blocks\"\"\"\n",
    "    latest_block = w3.eth.block_number\n",
    "    gas_prices = []\n",
    "\n",
    "    for block_num in range(latest_block, latest_block - n, -1):\n",
    "        block = w3.eth.get_block(block_num, full_transactions=True)\n",
    "        # Extract gas price from each transaction in the block\n",
    "        for tx in block.transactions:\n",
    "            gas_prices.append(tx.gasPrice)\n",
    "\n",
    "    if not gas_prices:\n",
    "        return None\n",
    "\n",
    "    avg_gas_price = sum(gas_prices) / len(gas_prices)\n",
    "    return w3.from_wei(avg_gas_price, 'gwei')  # convert to gwei for readability\n",
    "\n",
    "print(\"Average gas price (last 10 blocks):\", average_gas_price_last_blocks(10), \"gwei\")\n"
   ]
  },
  {
   "cell_type": "markdown",
   "id": "eb748b94",
   "metadata": {},
   "source": [
    "### Create a simple whale detector function"
   ]
  },
  {
   "cell_type": "markdown",
   "id": "d170c39d",
   "metadata": {},
   "source": [
    " Create a simple whale detector function\n",
    "\n",
    "     - The function should:\n",
    "         - Check if a wallet has more than 100 ETH\n",
    "         - Check if a wallet has more than 1M USDC\n",
    "         - If either is True, the wallet should be tagged a \"Whale\" (can simply print \"Whale\")\n",
    "         - Optionally, can add more categories (goldfish, dolphin, small whale, large whale, etc.)\n",
    "     - Test the function with your address or addresses you find on [etherscan.io](https://etherscan.io/token/0xa0b86991c6218b36c1d19d4a2e9eb0ce3606eb48#balances)\n",
    "     "
   ]
  },
  {
   "cell_type": "code",
   "execution_count": null,
   "id": "06321474",
   "metadata": {},
   "outputs": [],
   "source": [
    "ERC20_ABI = [\n",
    "    {\n",
    "        \"constant\": True,\n",
    "        \"inputs\": [{\"name\": \"_owner\", \"type\": \"address\"}],\n",
    "        \"name\": \"balanceOf\",\n",
    "        \"outputs\": [{\"name\": \"balance\", \"type\": \"uint256\"}],\n",
    "        \"payable\": False,\n",
    "        \"stateMutability\": \"view\",\n",
    "        \"type\": \"function\"\n",
    "    },\n",
    "    {\n",
    "        \"constant\": True,\n",
    "        \"inputs\": [],\n",
    "        \"name\": \"totalSupply\",\n",
    "        \"outputs\": [\n",
    "            {\n",
    "                \"name\": \"\",\n",
    "                \"type\": \"uint256\"\n",
    "            }\n",
    "        ],\n",
    "        \"payable\": False,\n",
    "        \"stateMutability\": \"view\",\n",
    "        \"type\": \"function\"\n",
    "    },\n",
    "    {\n",
    "        \"constant\": True,\n",
    "        \"inputs\": [],\n",
    "        \"name\": \"decimals\",\n",
    "        \"outputs\": [\n",
    "            {\n",
    "                \"name\": \"\",\n",
    "                \"type\": \"uint8\"\n",
    "            }\n",
    "        ],\n",
    "        \"payable\": False,\n",
    "        \"stateMutability\": \"view\",\n",
    "        \"type\": \"function\"\n",
    "    },\n",
    "]\n",
    "\n",
    "\n",
    "\n",
    "\n",
    "\n"
   ]
  },
  {
   "cell_type": "code",
   "execution_count": null,
   "id": "11ba0918",
   "metadata": {},
   "outputs": [],
   "source": [
    "def detect_whale(address: str, tokens: dict) -> dict:\n",
    "    \"\"\"\n",
    "    Detect if an address qualifies as a whale.\n",
    "    \n",
    "    Parameters:\n",
    "        address (str): Ethereum wallet address.\n",
    "        tokens (dict): Mapping of token name -> token contract address.\n",
    "                       Example: {\"USDC\": \"0xA0b86991c6218b36c1d19D4a2e9Eb0cE3606eB48\"}\n",
    "\n",
    "    Returns:\n",
    "        dict: balances and whale classification\n",
    "    \"\"\"\n",
    "    result = {\"address\": address, \"balances\": {}, \"tag\": \"Not Whale\"}\n",
    "\n",
    "    # --- ETH balance ---\n",
    "    raw_ether_balance = w3.eth.get_balance(address)\n",
    "    eth_balance = w3.from_wei(raw_ether_balance, 'ether')\n",
    "    result[\"balances\"][\"ETH\"] = eth_balance\n",
    "\n",
    "    # --- Token balances ---\n",
    "    for symbol, token_addr in tokens.items():\n",
    "        token_contract = w3.eth.contract(address=token_addr, abi=ERC20_ABI)\n",
    "        raw_balance = token_contract.functions.balanceOf(address).call()\n",
    "        decimals = token_contract.functions.decimals().call()\n",
    "        normalized_balance = raw_balance / (10 ** decimals)\n",
    "        result[\"balances\"][symbol] = normalized_balance\n",
    "\n",
    "    # --- Whale detection rules ---\n",
    "    if eth_balance > 100 or result[\"balances\"].get(\"USDC\", 0) > 1_000_000:\n",
    "        result[\"tag\"] = \"Whale\"\n",
    "\n",
    "    if eth_balance > 1000 or result[\"balances\"].get(\"USDC\", 0) > 10_000_000:\n",
    "        result[\"tag\"] = \"Mega Whale\"\n",
    "    elif eth_balance > 50 or result[\"balances\"].get(\"USDC\", 0) > 500_000:\n",
    "        result[\"tag\"] = \"Dolphin\"\n",
    "\n",
    "    return result\n",
    "\n",
    "\n",
    "# --- Example usage ---\n",
    "tokens = {\n",
    "    \"USDC\": \"0xA0b86991c6218b36c1d19D4a2e9Eb0cE3606eB48\"  # Mainnet USDC\n",
    "}\n",
    "\n",
    "# Example call (replace with a real address)\n",
    "# print(detect_whale(\"0x742d35Cc6634C0532925a3b844Bc454e4438f44e\", tokens))\n"
   ]
  },
  {
   "cell_type": "code",
   "execution_count": 38,
   "id": "9d44d68a",
   "metadata": {},
   "outputs": [
    {
     "data": {
      "text/plain": [
       "{'address': '0x5B6122C109B78C6755486966148C1D70a50A47D7',\n",
       " 'balances': {'ETH': Decimal('113.727440597777858883'), 'USDC': 0.006797},\n",
       " 'tag': 'Dolphin'}"
      ]
     },
     "execution_count": 38,
     "metadata": {},
     "output_type": "execute_result"
    }
   ],
   "source": [
    "detect_whale(\"0x5B6122C109B78C6755486966148C1D70a50A47D7\", tokens)"
   ]
  },
  {
   "cell_type": "code",
   "execution_count": 39,
   "id": "f3365e5b",
   "metadata": {},
   "outputs": [],
   "source": [
    "def classify_addresses(addresses: list, tokens: dict) -> dict:\n",
    "    \"\"\"\n",
    "    Classify multiple addresses into whale categories.\n",
    "    \n",
    "    Parameters:\n",
    "        addresses (list): List of Ethereum addresses\n",
    "        tokens (dict): Mapping of token name -> token contract address\n",
    "    \n",
    "    Returns:\n",
    "        dict: Mapping {address: category_tag}\n",
    "    \"\"\"\n",
    "    classification = {}\n",
    "\n",
    "    for addr in addresses:\n",
    "        result = detect_whale(addr, tokens)  # reuse the previous function\n",
    "        classification[addr] = result[\"tag\"]\n",
    "\n",
    "    return classification\n",
    "\n",
    "\n",
    "# --- Example usage ---\n",
    "addresses = [\n",
    "    \"0x5B6122C109B78C6755486966148C1D70a50A47D7\",  \n",
    "    \"0x4838B106FCe9647Bdf1E7877BF73cE8B0BAD5f97\",  \n",
    "]\n",
    "\n",
    "tokens = {\n",
    "    \"USDC\": \"0xA0b86991c6218b36c1d19D4a2e9Eb0cE3606eB48\"  # Mainnet USDC\n",
    "}\n",
    "\n"
   ]
  },
  {
   "cell_type": "code",
   "execution_count": 40,
   "id": "c9d718ed",
   "metadata": {},
   "outputs": [
    {
     "data": {
      "text/plain": [
       "{'0x5B6122C109B78C6755486966148C1D70a50A47D7': 'Dolphin',\n",
       " '0x4838B106FCe9647Bdf1E7877BF73cE8B0BAD5f97': 'Not Whale'}"
      ]
     },
     "execution_count": 40,
     "metadata": {},
     "output_type": "execute_result"
    }
   ],
   "source": [
    "classify_addresses(addresses, tokens)"
   ]
  }
 ],
 "metadata": {
  "kernelspec": {
   "display_name": "myenv",
   "language": "python",
   "name": "python3"
  },
  "language_info": {
   "codemirror_mode": {
    "name": "ipython",
    "version": 3
   },
   "file_extension": ".py",
   "mimetype": "text/x-python",
   "name": "python",
   "nbconvert_exporter": "python",
   "pygments_lexer": "ipython3",
   "version": "3.12.3"
  }
 },
 "nbformat": 4,
 "nbformat_minor": 5
}
