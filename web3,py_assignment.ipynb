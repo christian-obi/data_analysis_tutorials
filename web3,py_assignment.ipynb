{
 "cells": [
  {
   "cell_type": "code",
   "execution_count": 1,
   "id": "46588f48",
   "metadata": {},
   "outputs": [
    {
     "name": "stdout",
     "output_type": "stream",
     "text": [
      "Requirement already satisfied: web3 in /home/realist/data-analysis/myenv/lib/python3.12/site-packages (7.13.0)\n",
      "Requirement already satisfied: dotenv in /home/realist/data-analysis/myenv/lib/python3.12/site-packages (0.9.9)\n",
      "Requirement already satisfied: pandas in /home/realist/data-analysis/myenv/lib/python3.12/site-packages (2.3.1)\n",
      "Requirement already satisfied: eth-abi>=5.0.1 in /home/realist/data-analysis/myenv/lib/python3.12/site-packages (from web3) (5.2.0)\n",
      "Requirement already satisfied: eth-account>=0.13.6 in /home/realist/data-analysis/myenv/lib/python3.12/site-packages (from web3) (0.13.7)\n",
      "Requirement already satisfied: eth-hash>=0.5.1 in /home/realist/data-analysis/myenv/lib/python3.12/site-packages (from eth-hash[pycryptodome]>=0.5.1->web3) (0.7.1)\n",
      "Requirement already satisfied: eth-typing>=5.0.0 in /home/realist/data-analysis/myenv/lib/python3.12/site-packages (from web3) (5.2.1)\n",
      "Requirement already satisfied: eth-utils>=5.0.0 in /home/realist/data-analysis/myenv/lib/python3.12/site-packages (from web3) (5.3.0)\n",
      "Requirement already satisfied: hexbytes>=1.2.0 in /home/realist/data-analysis/myenv/lib/python3.12/site-packages (from web3) (1.3.1)\n",
      "Requirement already satisfied: aiohttp>=3.7.4.post0 in /home/realist/data-analysis/myenv/lib/python3.12/site-packages (from web3) (3.12.15)\n",
      "Requirement already satisfied: pydantic>=2.4.0 in /home/realist/data-analysis/myenv/lib/python3.12/site-packages (from web3) (2.11.7)\n",
      "Requirement already satisfied: requests>=2.23.0 in /home/realist/data-analysis/myenv/lib/python3.12/site-packages (from web3) (2.32.4)\n",
      "Requirement already satisfied: typing-extensions>=4.0.1 in /home/realist/data-analysis/myenv/lib/python3.12/site-packages (from web3) (4.14.1)\n",
      "Requirement already satisfied: types-requests>=2.0.0 in /home/realist/data-analysis/myenv/lib/python3.12/site-packages (from web3) (2.32.4.20250809)\n",
      "Requirement already satisfied: websockets<16.0.0,>=10.0.0 in /home/realist/data-analysis/myenv/lib/python3.12/site-packages (from web3) (15.0.1)\n",
      "Requirement already satisfied: pyunormalize>=15.0.0 in /home/realist/data-analysis/myenv/lib/python3.12/site-packages (from web3) (16.0.0)\n",
      "Requirement already satisfied: python-dotenv in /home/realist/data-analysis/myenv/lib/python3.12/site-packages (from dotenv) (1.1.1)\n",
      "Requirement already satisfied: numpy>=1.26.0 in /home/realist/data-analysis/myenv/lib/python3.12/site-packages (from pandas) (2.3.1)\n",
      "Requirement already satisfied: python-dateutil>=2.8.2 in /home/realist/data-analysis/myenv/lib/python3.12/site-packages (from pandas) (2.9.0.post0)\n",
      "Requirement already satisfied: pytz>=2020.1 in /home/realist/data-analysis/myenv/lib/python3.12/site-packages (from pandas) (2025.2)\n",
      "Requirement already satisfied: tzdata>=2022.7 in /home/realist/data-analysis/myenv/lib/python3.12/site-packages (from pandas) (2025.2)\n",
      "Requirement already satisfied: aiohappyeyeballs>=2.5.0 in /home/realist/data-analysis/myenv/lib/python3.12/site-packages (from aiohttp>=3.7.4.post0->web3) (2.6.1)\n",
      "Requirement already satisfied: aiosignal>=1.4.0 in /home/realist/data-analysis/myenv/lib/python3.12/site-packages (from aiohttp>=3.7.4.post0->web3) (1.4.0)\n",
      "Requirement already satisfied: attrs>=17.3.0 in /home/realist/data-analysis/myenv/lib/python3.12/site-packages (from aiohttp>=3.7.4.post0->web3) (25.3.0)\n",
      "Requirement already satisfied: frozenlist>=1.1.1 in /home/realist/data-analysis/myenv/lib/python3.12/site-packages (from aiohttp>=3.7.4.post0->web3) (1.7.0)\n",
      "Requirement already satisfied: multidict<7.0,>=4.5 in /home/realist/data-analysis/myenv/lib/python3.12/site-packages (from aiohttp>=3.7.4.post0->web3) (6.6.4)\n",
      "Requirement already satisfied: propcache>=0.2.0 in /home/realist/data-analysis/myenv/lib/python3.12/site-packages (from aiohttp>=3.7.4.post0->web3) (0.3.2)\n",
      "Requirement already satisfied: yarl<2.0,>=1.17.0 in /home/realist/data-analysis/myenv/lib/python3.12/site-packages (from aiohttp>=3.7.4.post0->web3) (1.20.1)\n",
      "Requirement already satisfied: parsimonious<0.11.0,>=0.10.0 in /home/realist/data-analysis/myenv/lib/python3.12/site-packages (from eth-abi>=5.0.1->web3) (0.10.0)\n",
      "Requirement already satisfied: bitarray>=2.4.0 in /home/realist/data-analysis/myenv/lib/python3.12/site-packages (from eth-account>=0.13.6->web3) (3.6.1)\n",
      "Requirement already satisfied: eth-keyfile<0.9.0,>=0.7.0 in /home/realist/data-analysis/myenv/lib/python3.12/site-packages (from eth-account>=0.13.6->web3) (0.8.1)\n",
      "Requirement already satisfied: eth-keys>=0.4.0 in /home/realist/data-analysis/myenv/lib/python3.12/site-packages (from eth-account>=0.13.6->web3) (0.7.0)\n",
      "Requirement already satisfied: eth-rlp>=2.1.0 in /home/realist/data-analysis/myenv/lib/python3.12/site-packages (from eth-account>=0.13.6->web3) (2.2.0)\n",
      "Requirement already satisfied: rlp>=1.0.0 in /home/realist/data-analysis/myenv/lib/python3.12/site-packages (from eth-account>=0.13.6->web3) (4.1.0)\n",
      "Requirement already satisfied: ckzg>=2.0.0 in /home/realist/data-analysis/myenv/lib/python3.12/site-packages (from eth-account>=0.13.6->web3) (2.1.1)\n",
      "Requirement already satisfied: pycryptodome<4,>=3.6.6 in /home/realist/data-analysis/myenv/lib/python3.12/site-packages (from eth-hash[pycryptodome]>=0.5.1->web3) (3.23.0)\n",
      "Requirement already satisfied: cytoolz>=0.10.1 in /home/realist/data-analysis/myenv/lib/python3.12/site-packages (from eth-utils>=5.0.0->web3) (1.0.1)\n",
      "Requirement already satisfied: annotated-types>=0.6.0 in /home/realist/data-analysis/myenv/lib/python3.12/site-packages (from pydantic>=2.4.0->web3) (0.7.0)\n",
      "Requirement already satisfied: pydantic-core==2.33.2 in /home/realist/data-analysis/myenv/lib/python3.12/site-packages (from pydantic>=2.4.0->web3) (2.33.2)\n",
      "Requirement already satisfied: typing-inspection>=0.4.0 in /home/realist/data-analysis/myenv/lib/python3.12/site-packages (from pydantic>=2.4.0->web3) (0.4.1)\n",
      "Requirement already satisfied: six>=1.5 in /home/realist/data-analysis/myenv/lib/python3.12/site-packages (from python-dateutil>=2.8.2->pandas) (1.17.0)\n",
      "Requirement already satisfied: charset_normalizer<4,>=2 in /home/realist/data-analysis/myenv/lib/python3.12/site-packages (from requests>=2.23.0->web3) (3.4.2)\n",
      "Requirement already satisfied: idna<4,>=2.5 in /home/realist/data-analysis/myenv/lib/python3.12/site-packages (from requests>=2.23.0->web3) (3.10)\n",
      "Requirement already satisfied: urllib3<3,>=1.21.1 in /home/realist/data-analysis/myenv/lib/python3.12/site-packages (from requests>=2.23.0->web3) (2.5.0)\n",
      "Requirement already satisfied: certifi>=2017.4.17 in /home/realist/data-analysis/myenv/lib/python3.12/site-packages (from requests>=2.23.0->web3) (2025.7.14)\n",
      "Requirement already satisfied: toolz>=0.8.0 in /home/realist/data-analysis/myenv/lib/python3.12/site-packages (from cytoolz>=0.10.1->eth-utils>=5.0.0->web3) (1.0.0)\n",
      "Requirement already satisfied: regex>=2022.3.15 in /home/realist/data-analysis/myenv/lib/python3.12/site-packages (from parsimonious<0.11.0,>=0.10.0->eth-abi>=5.0.1->web3) (2025.7.34)\n"
     ]
    }
   ],
   "source": [
    "# import and configs\n",
    "! pip install web3 dotenv pandas"
   ]
  },
  {
   "cell_type": "code",
   "execution_count": 4,
   "id": "ac150959",
   "metadata": {},
   "outputs": [
    {
     "name": "stdout",
     "output_type": "stream",
     "text": [
      "https://mainnet.infura.io/v3/14b83f0d989a4d67bb9181a343654d0e\n"
     ]
    }
   ],
   "source": [
    "# importing the web3 object from web3.py\n",
    "\n",
    "from web3 import Web3\n",
    "import pandas as pd\n",
    "from dotenv import load_dotenv\n",
    "import os\n",
    "\n",
    "# load env variable from .env file\n",
    "\n",
    "load_dotenv()\n",
    "GATEWAY = os.getenv(\"GATEWAY_URL\")\n",
    "\n",
    "print(GATEWAY)"
   ]
  },
  {
   "cell_type": "code",
   "execution_count": 6,
   "id": "0afa6abf",
   "metadata": {},
   "outputs": [
    {
     "name": "stdout",
     "output_type": "stream",
     "text": [
      "Is connected successfully= True\n"
     ]
    }
   ],
   "source": [
    "w3 = Web3(Web3.HTTPProvider(GATEWAY))\n",
    "\n",
    "print(f'Is connected successfully= {w3.is_connected()}')"
   ]
  },
  {
   "cell_type": "code",
   "execution_count": 7,
   "id": "c93b8479",
   "metadata": {},
   "outputs": [],
   "source": [
    "# function to change address to checksum\n",
    "\n",
    "def turn_to_checksum(address: str) -> str:\n",
    "    \"\"\"converts address to its checksum format\"\"\"\n",
    "    if not Web3.is_checksum_address(address):\n",
    "        return Web3.to_checksum_address(address)\n",
    "    return address"
   ]
  },
  {
   "cell_type": "markdown",
   "id": "489bc6d9",
   "metadata": {},
   "source": [
    "## Assignment\n",
    "### create a function that convert block_number to timestamp(human readable)"
   ]
  },
  {
   "cell_type": "code",
   "execution_count": 10,
   "id": "e201db98",
   "metadata": {},
   "outputs": [],
   "source": [
    "def block_to_timestamp(block_number: int):\n",
    "    \"\"\"converts block number to timestamp\"\"\"\n",
    "    block = w3.eth.get_block(block_number)\n",
    "    timestamp = block.timestamp\n",
    "    return pd.to_datetime(timestamp, unit='s')\n",
    "\n",
    "    "
   ]
  },
  {
   "cell_type": "code",
   "execution_count": 11,
   "id": "22d71306",
   "metadata": {},
   "outputs": [
    {
     "data": {
      "text/plain": [
       "Timestamp('2025-08-29 18:27:11')"
      ]
     },
     "execution_count": 11,
     "metadata": {},
     "output_type": "execute_result"
    }
   ],
   "source": [
    "block_to_timestamp(23248570)"
   ]
  },
  {
   "cell_type": "markdown",
   "id": "809b82cc",
   "metadata": {},
   "source": [
    "### calculate average gas price of the last 10 blocks"
   ]
  },
  {
   "cell_type": "code",
   "execution_count": null,
   "id": "dc5e5f23",
   "metadata": {},
   "outputs": [],
   "source": []
  }
 ],
 "metadata": {
  "kernelspec": {
   "display_name": "myenv",
   "language": "python",
   "name": "python3"
  },
  "language_info": {
   "codemirror_mode": {
    "name": "ipython",
    "version": 3
   },
   "file_extension": ".py",
   "mimetype": "text/x-python",
   "name": "python",
   "nbconvert_exporter": "python",
   "pygments_lexer": "ipython3",
   "version": "3.12.3"
  }
 },
 "nbformat": 4,
 "nbformat_minor": 5
}
