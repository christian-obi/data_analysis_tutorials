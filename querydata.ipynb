{
 "cells": [
  {
   "cell_type": "markdown",
   "id": "86ce20cb",
   "metadata": {},
   "source": [
    "https://docs.google.com/presentation/d/1pVFI6UbrfznB8FLK-JkqGQVRWX_k4ylPI0f-CklO8Wc/edit?slide=id.g364144951f6_0_69#slide=id.g364144951f6_0_69  google-slides"
   ]
  },
  {
   "cell_type": "code",
   "execution_count": 1,
   "id": "98edaa2d",
   "metadata": {},
   "outputs": [
    {
     "name": "stdout",
     "output_type": "stream",
     "text": [
      "Database file does not exist.\n"
     ]
    }
   ],
   "source": [
    "import sqlite3\n",
    "import os\n",
    "\n",
    "db_path = \"crypto.db\"\n",
    "\n",
    "if os.path.exists(db_path):\n",
    "    os.remove(db_path)\n",
    "    print(\"Database file deleted.\")\n",
    "else:\n",
    "    print(\"Database file does not exist.\")"
   ]
  },
  {
   "cell_type": "code",
   "execution_count": 2,
   "id": "56300f53",
   "metadata": {},
   "outputs": [
    {
     "name": "stdout",
     "output_type": "stream",
     "text": [
      "Table 'coins' created successfully.\n"
     ]
    }
   ],
   "source": [
    "# Create or connect to a database file\n",
    "conn = sqlite3.connect(db_path)\n",
    "\n",
    "# Create a cursor object to execute SQL commands\n",
    "cursor = conn.cursor()\n",
    "\n",
    "# Create a table\n",
    "cursor.execute(\"\"\"\n",
    "CREATE TABLE IF NOT EXISTS coins (\n",
    "    id INTEGER PRIMARY KEY AUTOINCREMENT,\n",
    "    name TEXT NOT NULL,\n",
    "    symbol TEXT NOT NULL,\n",
    "    price REAL,\n",
    "    market_cap REAL,\n",
    "    last_updated TIMESTAMP DEFAULT CURRENT_TIMESTAMP\n",
    ")\n",
    "\"\"\")\n",
    "\n",
    "# Save (commit) the changes\n",
    "conn.commit()\n",
    "print(\"Table 'coins' created successfully.\")"
   ]
  },
  {
   "cell_type": "code",
   "execution_count": 3,
   "id": "0f34fb9a",
   "metadata": {},
   "outputs": [],
   "source": [
    "# Insert single record\n",
    "cursor.execute(\"\"\"\n",
    "INSERT INTO coins (name, symbol, price, market_cap)\n",
    "VALUES ('Bitcoin', 'BTC', 50000, 950000000000)\n",
    "\"\"\")\n",
    "\n",
    "# Insert multiple records\n",
    "coins = [\n",
    "    ('Ethereum', 'ETH', 3000, 350000000000),\n",
    "    ('Cardano', 'ADA', 1.5, 50000000000),\n",
    "    ('Solana', 'SOL', 150, 50000000000)\n",
    "]\n",
    "\n",
    "cursor.executemany(\"\"\"\n",
    "INSERT INTO coins (name, symbol, price, market_cap)\n",
    "VALUES (?, ?, ?, ?)\n",
    "\"\"\", coins)\n",
    "\n",
    "conn.commit()"
   ]
  },
  {
   "cell_type": "code",
   "execution_count": 4,
   "id": "125a2e65",
   "metadata": {},
   "outputs": [
    {
     "name": "stdout",
     "output_type": "stream",
     "text": [
      "All coins: [(1, 'Bitcoin', 'BTC', 50000.0, 950000000000.0, '2025-08-11 17:51:46'), (2, 'Ethereum', 'ETH', 3000.0, 350000000000.0, '2025-08-11 17:51:46'), (3, 'Cardano', 'ADA', 1.5, 50000000000.0, '2025-08-11 17:51:46'), (4, 'Solana', 'SOL', 150.0, 50000000000.0, '2025-08-11 17:51:46')]\n",
      "Bitcoin data: (1, 'Bitcoin', 'BTC', 50000.0, 950000000000.0, '2025-08-11 17:51:46')\n",
      "Expensive coins: [('Bitcoin', 50000.0), ('Ethereum', 3000.0), ('Solana', 150.0)]\n"
     ]
    }
   ],
   "source": [
    "#get all coins\n",
    "cursor.execute(\"SELECT * FROM coins\")\n",
    "all_coins = cursor.fetchall()  # Get all results as a list of tuples\n",
    "print(\"All coins:\", all_coins)\n",
    "\n",
    "# Get one coin\n",
    "cursor.execute(\"SELECT * FROM coins WHERE symbol = 'BTC'\")\n",
    "bitcoin = cursor.fetchone()  # Get just the first result\n",
    "print(\"Bitcoin data:\", bitcoin)\n",
    "\n",
    "# Get specific columns with a condition\n",
    "cursor.execute(\"SELECT name, price FROM coins WHERE price > 100\")\n",
    "expensive_coins = cursor.fetchall()\n",
    "print(\"Expensive coins:\", expensive_coins)"
   ]
  },
  {
   "cell_type": "code",
   "execution_count": 5,
   "id": "e7adbbb9",
   "metadata": {},
   "outputs": [],
   "source": [
    "# Update Bitcoin's price\n",
    "cursor.execute(\"UPDATE coins SET price = 51000 WHERE symbol = 'BTC'\")\n",
    "conn.commit()\n",
    "\n",
    "# Delete cheap coins\n",
    "cursor.execute(\"DELETE FROM coins WHERE price < 2\")\n",
    "conn.commit()"
   ]
  },
  {
   "cell_type": "code",
   "execution_count": 6,
   "id": "1b1df303",
   "metadata": {},
   "outputs": [
    {
     "name": "stdout",
     "output_type": "stream",
     "text": [
      "[(1, 'Bitcoin', 'BTC', 51000.0, 950000000000.0, '2025-08-11 17:51:46'), (2, 'Ethereum', 'ETH', 3000.0, 350000000000.0, '2025-08-11 17:51:46'), (4, 'Solana', 'SOL', 150.0, 50000000000.0, '2025-08-11 17:51:46')]\n"
     ]
    }
   ],
   "source": [
    "# This automatically handles opening and closing the connection\n",
    "with sqlite3.connect(db_path) as conn:\n",
    "    cursor = conn.cursor()\n",
    "    cursor.execute(\"SELECT * FROM coins\")\n",
    "    print(cursor.fetchall())\n",
    "    # No need to manually close - it's handled by the 'with' block"
   ]
  },
  {
   "cell_type": "code",
   "execution_count": 8,
   "id": "0b9f8078",
   "metadata": {},
   "outputs": [
    {
     "name": "stdout",
     "output_type": "stream",
     "text": [
      "DataFrame from SQL:\n"
     ]
    },
    {
     "data": {
      "text/html": [
       "<div>\n",
       "<style scoped>\n",
       "    .dataframe tbody tr th:only-of-type {\n",
       "        vertical-align: middle;\n",
       "    }\n",
       "\n",
       "    .dataframe tbody tr th {\n",
       "        vertical-align: top;\n",
       "    }\n",
       "\n",
       "    .dataframe thead th {\n",
       "        text-align: right;\n",
       "    }\n",
       "</style>\n",
       "<table border=\"1\" class=\"dataframe\">\n",
       "  <thead>\n",
       "    <tr style=\"text-align: right;\">\n",
       "      <th></th>\n",
       "      <th>id</th>\n",
       "      <th>name</th>\n",
       "      <th>symbol</th>\n",
       "      <th>price</th>\n",
       "      <th>market_cap</th>\n",
       "      <th>last_updated</th>\n",
       "    </tr>\n",
       "  </thead>\n",
       "  <tbody>\n",
       "    <tr>\n",
       "      <th>0</th>\n",
       "      <td>1</td>\n",
       "      <td>Bitcoin</td>\n",
       "      <td>BTC</td>\n",
       "      <td>51000.0</td>\n",
       "      <td>9.500000e+11</td>\n",
       "      <td>2025-08-11 17:51:46</td>\n",
       "    </tr>\n",
       "    <tr>\n",
       "      <th>1</th>\n",
       "      <td>2</td>\n",
       "      <td>Ethereum</td>\n",
       "      <td>ETH</td>\n",
       "      <td>3000.0</td>\n",
       "      <td>3.500000e+11</td>\n",
       "      <td>2025-08-11 17:51:46</td>\n",
       "    </tr>\n",
       "    <tr>\n",
       "      <th>2</th>\n",
       "      <td>4</td>\n",
       "      <td>Solana</td>\n",
       "      <td>SOL</td>\n",
       "      <td>150.0</td>\n",
       "      <td>5.000000e+10</td>\n",
       "      <td>2025-08-11 17:51:46</td>\n",
       "    </tr>\n",
       "  </tbody>\n",
       "</table>\n",
       "</div>"
      ],
      "text/plain": [
       "   id      name symbol    price    market_cap         last_updated\n",
       "0   1   Bitcoin    BTC  51000.0  9.500000e+11  2025-08-11 17:51:46\n",
       "1   2  Ethereum    ETH   3000.0  3.500000e+11  2025-08-11 17:51:46\n",
       "2   4    Solana    SOL    150.0  5.000000e+10  2025-08-11 17:51:46"
      ]
     },
     "execution_count": 8,
     "metadata": {},
     "output_type": "execute_result"
    }
   ],
   "source": [
    "import pandas as pd\n",
    "\n",
    "with sqlite3.connect(db_path) as conn:\n",
    "    # Read SQL query directly into a DataFrame\n",
    "    df = pd.read_sql(\"SELECT * FROM coins\", conn)\n",
    "    \n",
    "print(\"DataFrame from SQL:\")\n",
    "df.head()"
   ]
  },
  {
   "cell_type": "code",
   "execution_count": 9,
   "id": "d0dfefba",
   "metadata": {},
   "outputs": [
    {
     "name": "stdout",
     "output_type": "stream",
     "text": [
      "\n",
      "New coins table:\n",
      "       name symbol  price  market_cap\n",
      "0  Polkadot    DOT   7.50  7500000000\n",
      "1   Polygon  MATIC   0.75  5000000000\n"
     ]
    }
   ],
   "source": [
    "# Create a new DataFrame\n",
    "new_coins = pd.DataFrame({\n",
    "    'name': ['Polkadot', 'Polygon'],\n",
    "    'symbol': ['DOT', 'MATIC'],\n",
    "    'price': [7.5, 0.75],\n",
    "    'market_cap': [7500000000, 5000000000]\n",
    "})\n",
    "\n",
    "with sqlite3.connect(db_path) as conn:\n",
    "    # Write the DataFrame to a new SQL table\n",
    "    new_coins.to_sql(\"new_coins\", conn, index=False, if_exists='replace')\n",
    "    \n",
    "    # Verify it worked\n",
    "    df_new = pd.read_sql(\"SELECT * FROM new_coins\", conn)\n",
    "    print(\"\\nNew coins table:\")\n",
    "    print(df_new)"
   ]
  },
  {
   "cell_type": "code",
   "execution_count": 10,
   "id": "02a777b3",
   "metadata": {},
   "outputs": [
    {
     "name": "stdout",
     "output_type": "stream",
     "text": [
      "\n",
      "Basic statistics:\n",
      "             id         price    market_cap\n",
      "count  3.000000      3.000000  3.000000e+00\n",
      "mean   2.333333  18050.000000  4.500000e+11\n",
      "std    1.527525  28571.095534  4.582576e+11\n",
      "min    1.000000    150.000000  5.000000e+10\n",
      "25%    1.500000   1575.000000  2.000000e+11\n",
      "50%    2.000000   3000.000000  3.500000e+11\n",
      "75%    3.000000  27000.000000  6.500000e+11\n",
      "max    4.000000  51000.000000  9.500000e+11\n",
      "\n",
      "Average price: 18050.0\n",
      "Total market cap: 1350000000000.0\n",
      "\n",
      "Expensive coins:\n",
      "       name    price\n",
      "0   Bitcoin  51000.0\n",
      "1  Ethereum   3000.0\n",
      "2    Solana    150.0\n"
     ]
    }
   ],
   "source": [
    "with sqlite3.connect(db_path) as conn:\n",
    "    df = pd.read_sql(\"SELECT * FROM coins\", conn)\n",
    "\n",
    "# Now you can use all pandas operations\n",
    "print(\"\\nBasic statistics:\")\n",
    "print(df.describe())\n",
    "\n",
    "print(\"\\nAverage price:\", df['price'].mean())\n",
    "print(\"Total market cap:\", df['market_cap'].sum())\n",
    "\n",
    "# Filter with pandas\n",
    "expensive = df[df['price'] > 100]\n",
    "print(\"\\nExpensive coins:\")\n",
    "print(expensive[['name', 'price']])"
   ]
  },
  {
   "cell_type": "code",
   "execution_count": null,
   "id": "f2b530bf",
   "metadata": {},
   "outputs": [],
   "source": [
    "with sqlite3.connect(db_path) as conn:\n",
    "    cursor = conn.cursor()\n",
    "    # Create coins table\n",
    "    cursor.execute(\"DROP TABLE IF EXISTS coins\")\n",
    "    cursor.execute(\"\"\"\n",
    "    CREATE TABLE coins (\n",
    "        coin_id INTEGER PRIMARY KEY AUTOINCREMENT,\n",
    "        name TEXT NOT NULL,\n",
    "        symbol TEXT NOT NULL UNIQUE\n",
    "    )\n",
    "    \"\"\")\n",
    "    # Create prices table with foreign key\n",
    "    cursor.execute(\"\"\"\n",
    "    CREATE TABLE IF NOT EXISTS prices (\n",
    "        price_id INTEGER PRIMARY KEY AUTOINCREMENT,\n",
    "        coin_id INTEGER NOT NULL,\n",
    "        price REAL NOT NULL,\n",
    "        date TIMESTAMP DEFAULT CURRENT_TIMESTAMP,\n",
    "        FOREIGN KEY (coin_id) REFERENCES coins (coin_id)\n",
    "    )\n",
    "    \"\"\")\n",
    "    # Insert some data\n",
    "    cursor.execute(\"INSERT INTO coins (name, symbol) VALUES ('Bitcoin', 'BTC')\")\n",
    "    cursor.execute(\"INSERT INTO coins (name, symbol) VALUES ('Ethereum', 'ETH')\")\n",
    "    # Get the auto-generated IDs\n",
    "    eth_id = cursor.lastrowid  # This would actually get ETH's ID - in real code you'd need to query for BTC's ID\n",
    "    btc_id = eth_id - 1\n",
    "\n",
    "    # Insert price history\n",
    "    cursor.executemany(\"\"\"\n",
    "    INSERT INTO prices (coin_id, price)\n",
    "    VALUES (?, ?)\n",
    "    \"\"\", [\n",
    "        (btc_id, 50000),\n",
    "        (btc_id, 51000),\n",
    "        (eth_id, 3000),\n",
    "        (eth_id, 3100)\n",
    "    ])\n",
    "    \n",
    "    conn.commit()"
   ]
  },
  {
   "cell_type": "markdown",
   "id": "93b263b1",
   "metadata": {},
   "source": [
    "- Inner join - keeps only rows that match in both tables\n",
    "- Left Join - **Keeps all rows from the left table**, and matches from the right table if available.\n",
    "- Right Join - **Keeps all rows from the right table**, matches from the left if available.\n",
    "- Full Outer Join - **Keeps all rows from both tables**, matching where possible."
   ]
  },
  {
   "cell_type": "code",
   "execution_count": 12,
   "id": "c9d6baf2",
   "metadata": {},
   "outputs": [
    {
     "name": "stdout",
     "output_type": "stream",
     "text": [
      "\n",
      "Coin prices with join:\n",
      "       name symbol    price                 date\n",
      "0   Bitcoin    BTC  50000.0  2025-08-11 18:13:52\n",
      "1   Bitcoin    BTC  51000.0  2025-08-11 18:13:52\n",
      "2  Ethereum    ETH   3000.0  2025-08-11 18:13:52\n",
      "3  Ethereum    ETH   3100.0  2025-08-11 18:13:52\n"
     ]
    }
   ],
   "source": [
    "with sqlite3.connect(db_path) as conn:\n",
    "    # Simple inner join\n",
    "    df = pd.read_sql(\"\"\"\n",
    "    SELECT c.name, c.symbol, p.price, p.date\n",
    "    FROM coins c\n",
    "    INNER JOIN prices p ON c.coin_id = p.coin_id\n",
    "    ORDER BY p.date DESC\n",
    "    \"\"\", conn)\n",
    "    \n",
    "print(\"\\nCoin prices with join:\")\n",
    "print(df)"
   ]
  },
  {
   "cell_type": "code",
   "execution_count": 13,
   "id": "facfc6d5",
   "metadata": {},
   "outputs": [
    {
     "name": "stdout",
     "output_type": "stream",
     "text": [
      "\n",
      "All coins with prices (if available):\n",
      "       name symbol    price                 date\n",
      "0   Bitcoin    BTC  50000.0  2025-08-11 18:13:52\n",
      "1   Bitcoin    BTC  51000.0  2025-08-11 18:13:52\n",
      "2  Ethereum    ETH   3000.0  2025-08-11 18:13:52\n",
      "3  Ethereum    ETH   3100.0  2025-08-11 18:13:52\n"
     ]
    }
   ],
   "source": [
    "# Example of LEFT JOIN (get all coins even if they have no prices)\n",
    "with sqlite3.connect(db_path) as conn:\n",
    "    df = pd.read_sql(\"\"\"\n",
    "    SELECT c.name, c.symbol, p.price, p.date\n",
    "    FROM coins c\n",
    "    LEFT JOIN prices p ON c.coin_id = p.coin_id\n",
    "    \"\"\", conn)\n",
    "    \n",
    "print(\"\\nAll coins with prices (if available):\")\n",
    "print(df)\n"
   ]
  },
  {
   "cell_type": "code",
   "execution_count": 14,
   "id": "185057e2",
   "metadata": {},
   "outputs": [
    {
     "name": "stdout",
     "output_type": "stream",
     "text": [
      "Indexes created.\n"
     ]
    }
   ],
   "source": [
    "# Index Frequent Columns to Improve Query Performance\n",
    "# Lets say you are frequently searching by \"symbol\" or \"name\" in the db\n",
    "\n",
    "conn = sqlite3.connect(db_path)\n",
    "cursor = conn.cursor()\n",
    "\n",
    "# Create an index on symbol\n",
    "cursor.execute(\"\"\"\n",
    "CREATE INDEX IF NOT EXISTS idx_coins_symbol ON coins(symbol);\n",
    "\"\"\")\n",
    "\n",
    "# Create an index on name\n",
    "cursor.execute(\"\"\"\n",
    "CREATE INDEX IF NOT EXISTS idx_coins_name ON coins(name);\n",
    "\"\"\")\n",
    "\n",
    "conn.commit()\n",
    "conn.close()\n",
    "print(\"Indexes created.\")"
   ]
  },
  {
   "cell_type": "code",
   "execution_count": 15,
   "id": "106af051",
   "metadata": {},
   "outputs": [
    {
     "name": "stdout",
     "output_type": "stream",
     "text": [
      "   coin_id     name symbol\n",
      "0        1  Bitcoin    BTC\n"
     ]
    }
   ],
   "source": [
    "with sqlite3.connect(db_path) as conn:\n",
    "    df = pd.read_sql(\"\"\"\n",
    "        SELECT *\n",
    "        FROM coins\n",
    "        WHERE symbol = 'BTC'\n",
    "    \"\"\", conn)\n",
    "\n",
    "print(df)"
   ]
  },
  {
   "cell_type": "code",
   "execution_count": 16,
   "id": "94025010",
   "metadata": {},
   "outputs": [],
   "source": [
    "# Use context managers (with statement)\n",
    "\n",
    "with sqlite3.connect(db_path) as conn:\n",
    "    df = pd.read_sql(\"\"\"\n",
    "    SELECT *\n",
    "    FROM coins c\n",
    "    \"\"\", conn)"
   ]
  },
  {
   "cell_type": "code",
   "execution_count": 17,
   "id": "9f5e3f14",
   "metadata": {},
   "outputs": [],
   "source": [
    "# Close connection with commit (if not using context manager)\n",
    "\n",
    "conn = sqlite3.connect(db_path)\n",
    "df = pd.read_sql(\"\"\"\n",
    "SELECT *\n",
    "FROM coins\n",
    "\"\"\", conn)\n",
    "conn.commit() # saving\n",
    "conn.close() # closing the database connection"
   ]
  },
  {
   "cell_type": "markdown",
   "id": "6eb200d3",
   "metadata": {},
   "source": [
    "- Take-Home exercise\n",
    "    - Create a notebook which does following:\n",
    "        - Insert at least **3 different coins** into the `coins` table.\n",
    "        - Insert **5 daily price records** for each coin into the `prices` table.\n",
    "        - Create a business question (what is the average price for each coin? what is the highest price for each coin?)\n",
    "        - Write an SQL query to solve the business question\n"
   ]
  },
  {
   "cell_type": "code",
   "execution_count": 18,
   "id": "9538c696",
   "metadata": {},
   "outputs": [],
   "source": [
    "## Homework Example\n",
    "\n",
    "# Step 1: Connect (will create DB file if it doesn't exist)\n",
    "conn = sqlite3.connect(\"crypto1.db\")\n",
    "cursor = conn.cursor()"
   ]
  },
  {
   "cell_type": "code",
   "execution_count": 19,
   "id": "b472a5f5",
   "metadata": {},
   "outputs": [],
   "source": [
    "# Step 2: Create tables\n",
    "cursor.execute(\"\"\"\n",
    "CREATE TABLE IF NOT EXISTS coins (\n",
    "    coin_id INTEGER PRIMARY KEY,\n",
    "    name TEXT,\n",
    "    symbol TEXT\n",
    ")\n",
    "\"\"\")\n",
    "\n",
    "cursor.execute(\"\"\"\n",
    "CREATE TABLE IF NOT EXISTS prices (\n",
    "    price_id INTEGER PRIMARY KEY,\n",
    "    coin_id INTEGER,\n",
    "    price REAL,\n",
    "    date TEXT,\n",
    "    FOREIGN KEY (coin_id) REFERENCES coins (coin_id)\n",
    ")\n",
    "\"\"\")\n",
    "conn.commit()  # Commit table creation"
   ]
  },
  {
   "cell_type": "code",
   "execution_count": null,
   "id": "c1676753",
   "metadata": {},
   "outputs": [],
   "source": [
    "# Step 3: Insert data \n",
    "coins_data = [\n",
    "    (1, \"Bitcoin\", \"BTC\"),\n",
    "    (2, \"Ethereum\", \"ETH\"),\n",
    "    (3, \"Litecoin\", \"LTC\")  # Will have no price\n",
    "]\n",
    "cursor.executemany(\"INSERT OR IGNORE INTO coins1 VALUES (?, ?, ?)\", coins_data)\n",
    "prices_data = [\n",
    "    (1, 1, 29123.50, \"2025-08-10\"),\n",
    "    (2, 2, 1834.75, \"2025-08-10\")\n",
    "]\n",
    "cursor.executemany(\"INSERT OR IGNORE INTO prices VALUES (?, ?, ?, ?)\", prices_data)\n",
    "\n",
    "conn.commit()  # Commit data inserts"
   ]
  },
  {
   "cell_type": "code",
   "execution_count": null,
   "id": "8de926b9",
   "metadata": {},
   "outputs": [],
   "source": [
    "# Step 4: Run LEFT JOIN query\n",
    "df = pd.read_sql(\"\"\"\n",
    "SELECT c.name, c.symbol, p.price, p.date\n",
    "FROM coins1 c\n",
    "LEFT JOIN prices p ON c.coin_id = p.coin_id\n",
    "\"\"\", conn)\n",
    "\n",
    "print(\"\\nAll coins with prices (if available):\")\n",
    "print(df)"
   ]
  },
  {
   "cell_type": "code",
   "execution_count": null,
   "id": "a7fc7fd1",
   "metadata": {},
   "outputs": [],
   "source": [
    "# Step 5: Close connection\n",
    "conn.close()"
   ]
  }
 ],
 "metadata": {
  "kernelspec": {
   "display_name": "myenv",
   "language": "python",
   "name": "python3"
  },
  "language_info": {
   "codemirror_mode": {
    "name": "ipython",
    "version": 3
   },
   "file_extension": ".py",
   "mimetype": "text/x-python",
   "name": "python",
   "nbconvert_exporter": "python",
   "pygments_lexer": "ipython3",
   "version": "3.12.3"
  }
 },
 "nbformat": 4,
 "nbformat_minor": 5
}
